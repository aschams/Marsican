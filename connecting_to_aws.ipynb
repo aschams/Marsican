{
 "cells": [
  {
   "cell_type": "code",
   "execution_count": 42,
   "metadata": {},
   "outputs": [
    {
     "name": "stdout",
     "output_type": "stream",
     "text": [
      "On Windows\n"
     ]
    }
   ],
   "source": [
    "import boto3\n",
    "import botocore\n",
    "import glob\n",
    "import imageio\n",
    "import json\n",
    "import marsican_functions as msn\n",
    "import os\n",
    "import pandas as pd\n",
    "import pickle\n",
    "import sys\n",
    "\n",
    "from collections import Counter\n",
    "from PIL import Image\n",
    "\n",
    "if 'win' in sys.platform:\n",
    "    print('On Windows')\n",
    "    os.environ[\"AWS_SHARED_CREDENTIALS_FILE\"] = 'C:\\\\Users\\\\acsch\\\\OneDrive\\\\Documents\\\\credentials.txt'\n",
    "    \n",
    "BUCKET = 'as-colony-count-images'"
   ]
  },
  {
   "cell_type": "code",
   "execution_count": 3,
   "metadata": {},
   "outputs": [],
   "source": [
    "s3 = boto3.resource('s3')"
   ]
  },
  {
   "cell_type": "markdown",
   "metadata": {},
   "source": [
    "## Creating the bucket"
   ]
  },
  {
   "cell_type": "code",
   "execution_count": 7,
   "metadata": {},
   "outputs": [
    {
     "name": "stdout",
     "output_type": "stream",
     "text": [
      "Created new bucket: as_colony_count_images\n"
     ]
    }
   ],
   "source": [
    "# https://www.accadius.com/post-file-aws-s3-windows-python-3-program/\n",
    "\n",
    "try:\n",
    "    # The name must be unique across all existing bucket names in Amazon S3.\n",
    "    s3.create_bucket(Bucket='as-colony-count-images')\n",
    "    print(\"Created new bucket: {}\".format('as_colony_count_images'))\n",
    "except botocore.exceptions.ClientError as e:\n",
    "    error_code = e.response['Error']['Code']\n",
    "    if error_code == 'BucketAlreadyExists':\n",
    "        print(\"Bucket exists already...no problem.\")\n",
    "    elif error_code == 'BucketAlreadyOwnedByYou':\n",
    "        print(\"Bucket exists already...no problem.\")\n",
    "    else:\n",
    "        print('Error code: ' + e.response['Error']['Code'])\n",
    "        print(e)"
   ]
  },
  {
   "cell_type": "markdown",
   "metadata": {},
   "source": [
    "## Find all relevant plate images"
   ]
  },
  {
   "cell_type": "code",
   "execution_count": 2,
   "metadata": {},
   "outputs": [],
   "source": [
    "plate_metadata = glob.glob('F:\\Colonies_Data\\*\\metadata.json')\n",
    "all_img_paths = list()\n",
    "for metadata_loc in plate_metadata:\n",
    "    absolute_path = metadata_loc.split(\"\\\\metadata.json\")[0]\n",
    "    with open(metadata_loc, 'r') as f:\n",
    "        colony_pic_metadata_json = f.read()\n",
    "        colony_pic_metadata = json.loads(colony_pic_metadata_json)\n",
    "    img_paths = msn.extract_paths_with_colonies(colony_pic_metadata['images_list'], max_colonies=99 )\n",
    "    full_img_paths = [(path[0], absolute_path + '/' + path[1]) for path in img_paths]\n",
    "    all_img_paths.append(full_img_paths)\n",
    "all_img_paths = msn.flatten(all_img_paths)\n",
    "\n",
    "Lt100_colonies_images = [t[1] for t in all_img_paths]"
   ]
  },
  {
   "cell_type": "code",
   "execution_count": 38,
   "metadata": {
    "collapsed": true
   },
   "outputs": [
    {
     "data": {
      "text/plain": [
       "['F:\\\\Colonies_Data\\\\MicrobIA_Dataset_only_counted_processed_anonimyzed_part5/F/T4h_inf/IMG_Niguarda1_1578_9_F6_T722.png',\n",
       " 'F:\\\\Colonies_Data\\\\MicrobIA_Dataset_only_counted_processed_anonimyzed_part5/S/T4h_inf/IMG_Niguarda1_1585_51_S54_T970.png',\n",
       " 'F:\\\\Colonies_Data\\\\MicrobIA_Dataset_only_counted_processed_anonimyzed_part5/F/T4h_inf/IMG_Niguarda1_1716_9_F6_T542.png',\n",
       " 'F:\\\\Colonies_Data\\\\MicrobIA_Dataset_only_counted_processed_anonimyzed_part5/S/T4h_inf/IMG_Niguarda1_1774_755_S54_T721.png',\n",
       " 'F:\\\\Colonies_Data\\\\MicrobIA_Dataset_only_counted_processed_anonimyzed_part5/S/T4h_inf/IMG_Niguarda1_1830_9_S54_T962.png',\n",
       " 'F:\\\\Colonies_Data\\\\MicrobIA_Dataset_only_counted_processed_anonimyzed_part5/S/T4h_inf/IMG_Niguarda1_1862_695_S54_T723.png',\n",
       " 'F:\\\\Colonies_Data\\\\MicrobIA_Dataset_only_counted_processed_anonimyzed_part5/S/T4h_inf/IMG_Niguarda1_1870_53_S54_T733.png',\n",
       " 'F:\\\\Colonies_Data\\\\MicrobIA_Dataset_only_counted_processed_anonimyzed_part5/F/T4h_inf/IMG_Niguarda1_1880_755_F6_T721.png',\n",
       " 'F:\\\\Colonies_Data\\\\MicrobIA_Dataset_only_counted_processed_anonimyzed_part5/F/T4h_inf/IMG_Niguarda1_2043_8_F6_T961.png',\n",
       " 'F:\\\\Colonies_Data\\\\MicrobIA_Dataset_only_counted_processed_anonimyzed_part5/S/T4h_inf/IMG_Niguarda1_2051_58_S54_T541.png',\n",
       " 'F:\\\\Colonies_Data\\\\MicrobIA_Dataset_only_counted_processed_anonimyzed_part5/S/T4h_inf/IMG_Niguarda1_2097_750_S54_T962.png',\n",
       " 'F:\\\\Colonies_Data\\\\MicrobIA_Dataset_only_counted_processed_anonimyzed_part5/F/T4h_inf/IMG_Niguarda1_2135_357_F6_T720.png',\n",
       " 'F:\\\\Colonies_Data\\\\MicrobIA_Dataset_only_counted_processed_anonimyzed_part5/F/T4h_inf/IMG_Niguarda1_2257_8_F6_T721.png',\n",
       " 'F:\\\\Colonies_Data\\\\MicrobIA_Dataset_only_counted_processed_anonimyzed_part5/F/T4h_inf/IMG_Niguarda1_2270_695_F6_T543.png',\n",
       " 'F:\\\\Colonies_Data\\\\MicrobIA_Dataset_only_counted_processed_anonimyzed_part5/S/T4h_inf/IMG_Niguarda1_2309_358_S54_T722.png',\n",
       " 'F:\\\\Colonies_Data\\\\MicrobIA_Dataset_only_counted_processed_anonimyzed_part5/F/T4h_inf/IMG_Niguarda1_2408_58_F6_T721.png',\n",
       " 'F:\\\\Colonies_Data\\\\MicrobIA_Dataset_only_counted_processed_anonimyzed_part5/F/T4h_inf/IMG_Niguarda1_2519_693_F6_T963.png',\n",
       " 'F:\\\\Colonies_Data\\\\MicrobIA_Dataset_only_counted_processed_anonimyzed_part5/S/T4h_inf/IMG_Niguarda1_2589_3_S54_T962.png',\n",
       " 'F:\\\\Colonies_Data\\\\MicrobIA_Dataset_only_counted_processed_anonimyzed_part5/F/T4h_inf/IMG_Niguarda1_2659_56_F6_T733.png',\n",
       " 'F:\\\\Colonies_Data\\\\MicrobIA_Dataset_only_counted_processed_anonimyzed_part5/F/T4h_inf/IMG_Niguarda1_2851_53_F6_T733.png',\n",
       " 'F:\\\\Colonies_Data\\\\MicrobIA_Dataset_only_counted_processed_anonimyzed_part5/S/T4h_inf/IMG_Niguarda1_2857_753_S54_T732.png',\n",
       " 'F:\\\\Colonies_Data\\\\MicrobIA_Dataset_only_counted_processed_anonimyzed_part5/S/T4h_inf/IMG_Niguarda1_3302_750_S54_T542.png',\n",
       " 'F:\\\\Colonies_Data\\\\MicrobIA_Dataset_only_counted_processed_anonimyzed_part5/S/T4h_inf/IMG_Niguarda1_3306_3_S54_T542.png',\n",
       " 'F:\\\\Colonies_Data\\\\MicrobIA_Dataset_only_counted_processed_anonimyzed_part5/F/T4h_inf/IMG_Niguarda1_3371_53_F6_T981.png',\n",
       " 'F:\\\\Colonies_Data\\\\MicrobIA_Dataset_only_counted_processed_anonimyzed_part5/S/T4h_inf/IMG_Niguarda1_3693_56_S54_T733.png',\n",
       " 'F:\\\\Colonies_Data\\\\MicrobIA_Dataset_only_counted_processed_anonimyzed_part5/S/T4h_inf/IMG_Niguarda1_3802_693_S54_T963.png',\n",
       " 'F:\\\\Colonies_Data\\\\MicrobIA_Dataset_only_counted_processed_anonimyzed_part5/F/T4h_inf/IMG_Niguarda1_3870_753_F6_T553.png',\n",
       " 'F:\\\\Colonies_Data\\\\MicrobIA_Dataset_only_counted_processed_anonimyzed_part5/S/T4h_inf/IMG_Niguarda1_3888_750_S54_T722.png',\n",
       " 'F:\\\\Colonies_Data\\\\MicrobIA_Dataset_only_counted_processed_anonimyzed_part5/S/T4h_inf/IMG_Niguarda1_3925_8_S54_T721.png',\n",
       " 'F:\\\\Colonies_Data\\\\MicrobIA_Dataset_only_counted_processed_anonimyzed_part5/S/T4h_inf/IMG_Niguarda1_3_3_S54_T722.png',\n",
       " 'F:\\\\Colonies_Data\\\\MicrobIA_Dataset_only_counted_processed_anonimyzed_part5/S/T4h_inf/IMG_Niguarda1_4069_622_S54_T963.png',\n",
       " 'F:\\\\Colonies_Data\\\\MicrobIA_Dataset_only_counted_processed_anonimyzed_part5/S/T4h_inf/IMG_Niguarda1_4164_755_S54_T961.png',\n",
       " 'F:\\\\Colonies_Data\\\\MicrobIA_Dataset_only_counted_processed_anonimyzed_part5/F/T4h_inf/IMG_Niguarda1_4235_695_F6_T723.png',\n",
       " 'F:\\\\Colonies_Data\\\\MicrobIA_Dataset_only_counted_processed_anonimyzed_part5/S/T4h_inf/IMG_Niguarda1_4256_358_S54_T962.png',\n",
       " 'F:\\\\Colonies_Data\\\\MicrobIA_Dataset_only_counted_processed_anonimyzed_part5/F/T4h_inf/IMG_Niguarda1_4466_622_F6_T963.png',\n",
       " 'F:\\\\Colonies_Data\\\\MicrobIA_Dataset_only_counted_processed_anonimyzed_part5/S/T4h_inf/IMG_Niguarda1_4668_755_S54_T573.png',\n",
       " 'F:\\\\Colonies_Data\\\\MicrobIA_Dataset_only_counted_processed_anonimyzed_part5/F/T4h_inf/IMG_Niguarda1_4750_750_F6_T722.png',\n",
       " 'F:\\\\Colonies_Data\\\\MicrobIA_Dataset_only_counted_processed_anonimyzed_part5/S/T4h_inf/IMG_Niguarda1_4884_695_S54_T963.png',\n",
       " 'F:\\\\Colonies_Data\\\\MicrobIA_Dataset_only_counted_processed_anonimyzed_part5/S/T4h_inf/IMG_Niguarda1_4954_623_S54_T541.png',\n",
       " 'F:\\\\Colonies_Data\\\\MicrobIA_Dataset_only_counted_processed_anonimyzed_part5/F/T4h_inf/IMG_Niguarda1_51_51_F6_T970.png',\n",
       " 'F:\\\\Colonies_Data\\\\MicrobIA_Dataset_only_counted_processed_anonimyzed_part5/F/T4h_inf/IMG_Niguarda1_5234_623_F6_T541.png',\n",
       " 'F:\\\\Colonies_Data\\\\MicrobIA_Dataset_only_counted_processed_anonimyzed_part5/S/T4h_inf/IMG_Niguarda1_53_53_S54_T553.png',\n",
       " 'F:\\\\Colonies_Data\\\\MicrobIA_Dataset_only_counted_processed_anonimyzed_part5/F/T4h_inf/IMG_Niguarda1_5498_753_F6_T975.png',\n",
       " 'F:\\\\Colonies_Data\\\\MicrobIA_Dataset_only_counted_processed_anonimyzed_part5/F/T4h_inf/IMG_Niguarda1_54_54_F6_T540.png',\n",
       " 'F:\\\\Colonies_Data\\\\MicrobIA_Dataset_only_counted_processed_anonimyzed_part5/F/T4h_inf/IMG_Niguarda1_5615_358_F6_T722.png',\n",
       " 'F:\\\\Colonies_Data\\\\MicrobIA_Dataset_only_counted_processed_anonimyzed_part5/S/T4h_inf/IMG_Niguarda1_5665_53_S54_T981.png',\n",
       " 'F:\\\\Colonies_Data\\\\MicrobIA_Dataset_only_counted_processed_anonimyzed_part5/S/T4h_inf/IMG_Niguarda1_56_56_S54_T960.png',\n",
       " 'F:\\\\Colonies_Data\\\\MicrobIA_Dataset_only_counted_processed_anonimyzed_part5/F/T4h_inf/IMG_Niguarda1_5757_53_F6_T553.png',\n",
       " 'F:\\\\Colonies_Data\\\\MicrobIA_Dataset_only_counted_processed_anonimyzed_part5/S/T4h_inf/IMG_Niguarda1_5764_9_S54_T542.png',\n",
       " 'F:\\\\Colonies_Data\\\\MicrobIA_Dataset_only_counted_processed_anonimyzed_part5/S/T4h_inf/IMG_Niguarda1_58_58_S54_T721.png',\n",
       " 'F:\\\\Colonies_Data\\\\MicrobIA_Dataset_only_counted_processed_anonimyzed_part5/S/T4h_inf/IMG_Niguarda1_5985_58_S54_T969.png',\n",
       " 'F:\\\\Colonies_Data\\\\MicrobIA_Dataset_only_counted_processed_anonimyzed_part5/F/T4h_inf/IMG_Niguarda1_6042_3_F6_T542.png',\n",
       " 'F:\\\\Colonies_Data\\\\MicrobIA_Dataset_only_counted_processed_anonimyzed_part5/S/T4h_inf/IMG_Niguarda1_6253_350_S54_T367.png',\n",
       " 'F:\\\\Colonies_Data\\\\MicrobIA_Dataset_only_counted_processed_anonimyzed_part5/S/T4h_inf/IMG_Niguarda1_6327_753_S54_T393.png',\n",
       " 'F:\\\\Colonies_Data\\\\MicrobIA_Dataset_only_counted_processed_anonimyzed_part5/F/T4h_inf/IMG_Niguarda1_633_3_F6_T722.png',\n",
       " 'F:\\\\Colonies_Data\\\\MicrobIA_Dataset_only_counted_processed_anonimyzed_part5/F/T4h_inf/IMG_Niguarda1_6361_753_F6_T732.png',\n",
       " 'F:\\\\Colonies_Data\\\\MicrobIA_Dataset_only_counted_processed_anonimyzed_part5/S/T4h_inf/IMG_Niguarda1_6547_51_S54_T730.png',\n",
       " 'F:\\\\Colonies_Data\\\\MicrobIA_Dataset_only_counted_processed_anonimyzed_part5/F/T4h_inf/IMG_Niguarda1_6578_750_F6_T962.png',\n",
       " 'F:\\\\Colonies_Data\\\\MicrobIA_Dataset_only_counted_processed_anonimyzed_part5/F/T4h_inf/IMG_Niguarda1_6623_358_F6_T962.png',\n",
       " 'F:\\\\Colonies_Data\\\\MicrobIA_Dataset_only_counted_processed_anonimyzed_part5/F/T4h_inf/IMG_Niguarda1_6886_350_F6_T367.png',\n",
       " 'F:\\\\Colonies_Data\\\\MicrobIA_Dataset_only_counted_processed_anonimyzed_part5/S/T4h_inf/IMG_Niguarda1_7031_357_S54_T720.png',\n",
       " 'F:\\\\Colonies_Data\\\\MicrobIA_Dataset_only_counted_processed_anonimyzed_part5/F/T4h_inf/IMG_Niguarda1_7129_623_F6_T961.png',\n",
       " 'F:\\\\Colonies_Data\\\\MicrobIA_Dataset_only_counted_processed_anonimyzed_part5/F/T4h_inf/IMG_Niguarda1_7143_693_F6_T723.png',\n",
       " 'F:\\\\Colonies_Data\\\\MicrobIA_Dataset_only_counted_processed_anonimyzed_part5/S/T4h_inf/IMG_Niguarda1_7228_693_S54_T723.png',\n",
       " 'F:\\\\Colonies_Data\\\\MicrobIA_Dataset_only_counted_processed_anonimyzed_part5/F/T4h_inf/IMG_Niguarda1_7243_755_F6_T961.png',\n",
       " 'F:\\\\Colonies_Data\\\\MicrobIA_Dataset_only_counted_processed_anonimyzed_part5/F/T4h_inf/IMG_Niguarda1_7249_623_F6_T721.png',\n",
       " 'F:\\\\Colonies_Data\\\\MicrobIA_Dataset_only_counted_processed_anonimyzed_part5/F/T4h_inf/IMG_Niguarda1_7485_3_F6_T962.png',\n",
       " 'F:\\\\Colonies_Data\\\\MicrobIA_Dataset_only_counted_processed_anonimyzed_part5/F/T4h_inf/IMG_Niguarda1_760_58_F6_T969.png',\n",
       " 'F:\\\\Colonies_Data\\\\MicrobIA_Dataset_only_counted_processed_anonimyzed_part5/F/T4h_inf/IMG_Niguarda1_7673_695_F6_T963.png',\n",
       " 'F:\\\\Colonies_Data\\\\MicrobIA_Dataset_only_counted_processed_anonimyzed_part5/S/T4h_inf/IMG_Niguarda1_7722_8_S54_T961.png',\n",
       " 'F:\\\\Colonies_Data\\\\MicrobIA_Dataset_only_counted_processed_anonimyzed_part5/S/T4h_inf/IMG_Niguarda1_7771_54_S54_T540.png',\n",
       " 'F:\\\\Colonies_Data\\\\MicrobIA_Dataset_only_counted_processed_anonimyzed_part5/F/T4h_inf/IMG_Niguarda1_7830_9_F6_T962.png',\n",
       " 'F:\\\\Colonies_Data\\\\MicrobIA_Dataset_only_counted_processed_anonimyzed_part5/F/T4h_inf/IMG_Niguarda1_7891_51_F6_T730.png',\n",
       " 'F:\\\\Colonies_Data\\\\MicrobIA_Dataset_only_counted_processed_anonimyzed_part5/F/T4h_inf/IMG_Niguarda1_8241_753_F6_T393.png',\n",
       " 'F:\\\\Colonies_Data\\\\MicrobIA_Dataset_only_counted_processed_anonimyzed_part5/S/T4h_inf/IMG_Niguarda1_8346_693_S54_T543.png',\n",
       " 'F:\\\\Colonies_Data\\\\MicrobIA_Dataset_only_counted_processed_anonimyzed_part5/S/T4h_inf/IMG_Niguarda1_8378_753_S54_T553.png',\n",
       " 'F:\\\\Colonies_Data\\\\MicrobIA_Dataset_only_counted_processed_anonimyzed_part5/F/T4h_inf/IMG_Niguarda1_918_58_F6_T541.png',\n",
       " 'F:\\\\Colonies_Data\\\\MicrobIA_Dataset_only_counted_processed_anonimyzed_part5/S/T4h_inf/IMG_Niguarda1_9_9_S54_T722.png',\n",
       " 'F:\\\\Colonies_Data\\\\MicrobIA_Dataset_only_counted_processed_anonimyzed_part2/F/T4h_inf/IMG_Niguarda1_1090_387_F6_T965.png',\n",
       " 'F:\\\\Colonies_Data\\\\MicrobIA_Dataset_only_counted_processed_anonimyzed_part2/S/T4h_inf/IMG_Niguarda1_1198_362_S54_T554.png',\n",
       " 'F:\\\\Colonies_Data\\\\MicrobIA_Dataset_only_counted_processed_anonimyzed_part2/S/T4h_inf/IMG_Niguarda1_1242_366_S54_T723.png',\n",
       " 'F:\\\\Colonies_Data\\\\MicrobIA_Dataset_only_counted_processed_anonimyzed_part2/F/T4h_inf/IMG_Niguarda1_1306_702_F6_T723.png',\n",
       " 'F:\\\\Colonies_Data\\\\MicrobIA_Dataset_only_counted_processed_anonimyzed_part2/F/T4h_inf/IMG_Niguarda1_1507_702_F6_T543.png',\n",
       " 'F:\\\\Colonies_Data\\\\MicrobIA_Dataset_only_counted_processed_anonimyzed_part2/S/T4h_inf/IMG_Niguarda1_1535_310_S54_T551.png',\n",
       " 'F:\\\\Colonies_Data\\\\MicrobIA_Dataset_only_counted_processed_anonimyzed_part2/S/T4h_inf/IMG_Niguarda1_1721_67_S54_T727.png',\n",
       " 'F:\\\\Colonies_Data\\\\MicrobIA_Dataset_only_counted_processed_anonimyzed_part2/S/T4h_inf/IMG_Niguarda1_1783_385_S54_T727.png',\n",
       " 'F:\\\\Colonies_Data\\\\MicrobIA_Dataset_only_counted_processed_anonimyzed_part2/S/T4h_inf/IMG_Niguarda1_1866_66_S54_T546.png',\n",
       " 'F:\\\\Colonies_Data\\\\MicrobIA_Dataset_only_counted_processed_anonimyzed_part2/F/T4h_inf/IMG_Niguarda1_2291_366_F6_T723.png',\n",
       " 'F:\\\\Colonies_Data\\\\MicrobIA_Dataset_only_counted_processed_anonimyzed_part2/F/T4h_inf/IMG_Niguarda1_2616_67_F6_T727.png',\n",
       " 'F:\\\\Colonies_Data\\\\MicrobIA_Dataset_only_counted_processed_anonimyzed_part2/F/T4h_inf/IMG_Niguarda1_2751_385_F6_T727.png',\n",
       " 'F:\\\\Colonies_Data\\\\MicrobIA_Dataset_only_counted_processed_anonimyzed_part2/S/T4h_inf/IMG_Niguarda1_2781_702_S54_T543.png',\n",
       " 'F:\\\\Colonies_Data\\\\MicrobIA_Dataset_only_counted_processed_anonimyzed_part2/F/T4h_inf/IMG_Niguarda1_3102_366_F6_T543.png',\n",
       " 'F:\\\\Colonies_Data\\\\MicrobIA_Dataset_only_counted_processed_anonimyzed_part2/F/T4h_inf/IMG_Niguarda1_3201_388_F6_T970.png',\n",
       " 'F:\\\\Colonies_Data\\\\MicrobIA_Dataset_only_counted_processed_anonimyzed_part2/F/T4h_inf/IMG_Niguarda1_3585_366_F6_T963.png',\n",
       " 'F:\\\\Colonies_Data\\\\MicrobIA_Dataset_only_counted_processed_anonimyzed_part2/S/T4h_inf/IMG_Niguarda1_369_313_S54_T965.png',\n",
       " 'F:\\\\Colonies_Data\\\\MicrobIA_Dataset_only_counted_processed_anonimyzed_part2/S/T4h_inf/IMG_Niguarda1_3721_388_S54_T563.png',\n",
       " 'F:\\\\Colonies_Data\\\\MicrobIA_Dataset_only_counted_processed_anonimyzed_part2/F/T4h_inf/IMG_Niguarda1_3769_313_F6_T965.png',\n",
       " 'F:\\\\Colonies_Data\\\\MicrobIA_Dataset_only_counted_processed_anonimyzed_part2/F/T4h_inf/IMG_Niguarda1_4277_310_F6_T551.png',\n",
       " 'F:\\\\Colonies_Data\\\\MicrobIA_Dataset_only_counted_processed_anonimyzed_part2/F/T4h_inf/IMG_Niguarda1_4382_63_F6_T721.png',\n",
       " 'F:\\\\Colonies_Data\\\\MicrobIA_Dataset_only_counted_processed_anonimyzed_part2/F/T4h_inf/IMG_Niguarda1_446_362_F6_T981.png']"
      ]
     },
     "execution_count": 38,
     "metadata": {},
     "output_type": "execute_result"
    }
   ],
   "source": [
    "Lt100_colonies_images[300:400]"
   ]
  },
  {
   "cell_type": "code",
   "execution_count": 39,
   "metadata": {},
   "outputs": [],
   "source": [
    "col_counts_rel_paths = [(t[0], t[1].split('inf/')[1]) for t in all_img_paths]"
   ]
  },
  {
   "cell_type": "code",
   "execution_count": 31,
   "metadata": {},
   "outputs": [],
   "source": [
    "cc_rp_df = pd.DataFrame(col_counts_rel_paths, columns=['colony_count', 'relative_path'])\n",
    "cc_rp_df_json = cc_rp_df.to_json('colony_count_relative_paths.json',orient='index')"
   ]
  },
  {
   "cell_type": "code",
   "execution_count": 23,
   "metadata": {
    "collapsed": true
   },
   "outputs": [
    {
     "ename": "KeyboardInterrupt",
     "evalue": "",
     "output_type": "error",
     "traceback": [
      "\u001b[1;31m---------------------------------------------------------------------------\u001b[0m",
      "\u001b[1;31mKeyboardInterrupt\u001b[0m                         Traceback (most recent call last)",
      "\u001b[1;32m<ipython-input-23-19b57259339b>\u001b[0m in \u001b[0;36m<module>\u001b[1;34m\u001b[0m\n\u001b[1;32m----> 1\u001b[1;33m \u001b[0mcounts_and_images\u001b[0m \u001b[1;33m=\u001b[0m \u001b[1;33m[\u001b[0m\u001b[1;33m(\u001b[0m\u001b[0mt\u001b[0m\u001b[1;33m[\u001b[0m\u001b[1;36m0\u001b[0m\u001b[1;33m]\u001b[0m\u001b[1;33m,\u001b[0m \u001b[0mImage\u001b[0m\u001b[1;33m.\u001b[0m\u001b[0mfromarray\u001b[0m\u001b[1;33m(\u001b[0m\u001b[0mimageio\u001b[0m\u001b[1;33m.\u001b[0m\u001b[0mimread\u001b[0m\u001b[1;33m(\u001b[0m\u001b[0mt\u001b[0m\u001b[1;33m[\u001b[0m\u001b[1;36m1\u001b[0m\u001b[1;33m]\u001b[0m\u001b[1;33m)\u001b[0m\u001b[1;33m)\u001b[0m\u001b[1;33m.\u001b[0m\u001b[0mresize\u001b[0m\u001b[1;33m(\u001b[0m\u001b[1;33m(\u001b[0m\u001b[1;36m1000\u001b[0m\u001b[1;33m,\u001b[0m\u001b[1;36m1000\u001b[0m\u001b[1;33m)\u001b[0m\u001b[1;33m)\u001b[0m\u001b[1;33m.\u001b[0m\u001b[0mconvert\u001b[0m\u001b[1;33m(\u001b[0m\u001b[1;34m'L'\u001b[0m\u001b[1;33m)\u001b[0m\u001b[1;33m)\u001b[0m \u001b[1;32mfor\u001b[0m \u001b[0mt\u001b[0m \u001b[1;32min\u001b[0m \u001b[0mall_img_paths\u001b[0m\u001b[1;33m]\u001b[0m\u001b[1;33m\u001b[0m\u001b[1;33m\u001b[0m\u001b[0m\n\u001b[0m",
      "\u001b[1;32m<ipython-input-23-19b57259339b>\u001b[0m in \u001b[0;36m<listcomp>\u001b[1;34m(.0)\u001b[0m\n\u001b[1;32m----> 1\u001b[1;33m \u001b[0mcounts_and_images\u001b[0m \u001b[1;33m=\u001b[0m \u001b[1;33m[\u001b[0m\u001b[1;33m(\u001b[0m\u001b[0mt\u001b[0m\u001b[1;33m[\u001b[0m\u001b[1;36m0\u001b[0m\u001b[1;33m]\u001b[0m\u001b[1;33m,\u001b[0m \u001b[0mImage\u001b[0m\u001b[1;33m.\u001b[0m\u001b[0mfromarray\u001b[0m\u001b[1;33m(\u001b[0m\u001b[0mimageio\u001b[0m\u001b[1;33m.\u001b[0m\u001b[0mimread\u001b[0m\u001b[1;33m(\u001b[0m\u001b[0mt\u001b[0m\u001b[1;33m[\u001b[0m\u001b[1;36m1\u001b[0m\u001b[1;33m]\u001b[0m\u001b[1;33m)\u001b[0m\u001b[1;33m)\u001b[0m\u001b[1;33m.\u001b[0m\u001b[0mresize\u001b[0m\u001b[1;33m(\u001b[0m\u001b[1;33m(\u001b[0m\u001b[1;36m1000\u001b[0m\u001b[1;33m,\u001b[0m\u001b[1;36m1000\u001b[0m\u001b[1;33m)\u001b[0m\u001b[1;33m)\u001b[0m\u001b[1;33m.\u001b[0m\u001b[0mconvert\u001b[0m\u001b[1;33m(\u001b[0m\u001b[1;34m'L'\u001b[0m\u001b[1;33m)\u001b[0m\u001b[1;33m)\u001b[0m \u001b[1;32mfor\u001b[0m \u001b[0mt\u001b[0m \u001b[1;32min\u001b[0m \u001b[0mall_img_paths\u001b[0m\u001b[1;33m]\u001b[0m\u001b[1;33m\u001b[0m\u001b[1;33m\u001b[0m\u001b[0m\n\u001b[0m",
      "\u001b[1;32m~\\Anaconda3\\envs\\Tensorflow-GPU\\lib\\site-packages\\PIL\\Image.py\u001b[0m in \u001b[0;36mfromarray\u001b[1;34m(obj, mode)\u001b[0m\n\u001b[0;32m   2668\u001b[0m             \u001b[0mobj\u001b[0m \u001b[1;33m=\u001b[0m \u001b[0mobj\u001b[0m\u001b[1;33m.\u001b[0m\u001b[0mtostring\u001b[0m\u001b[1;33m(\u001b[0m\u001b[1;33m)\u001b[0m\u001b[1;33m\u001b[0m\u001b[1;33m\u001b[0m\u001b[0m\n\u001b[0;32m   2669\u001b[0m \u001b[1;33m\u001b[0m\u001b[0m\n\u001b[1;32m-> 2670\u001b[1;33m     \u001b[1;32mreturn\u001b[0m \u001b[0mfrombuffer\u001b[0m\u001b[1;33m(\u001b[0m\u001b[0mmode\u001b[0m\u001b[1;33m,\u001b[0m \u001b[0msize\u001b[0m\u001b[1;33m,\u001b[0m \u001b[0mobj\u001b[0m\u001b[1;33m,\u001b[0m \u001b[1;34m\"raw\"\u001b[0m\u001b[1;33m,\u001b[0m \u001b[0mrawmode\u001b[0m\u001b[1;33m,\u001b[0m \u001b[1;36m0\u001b[0m\u001b[1;33m,\u001b[0m \u001b[1;36m1\u001b[0m\u001b[1;33m)\u001b[0m\u001b[1;33m\u001b[0m\u001b[1;33m\u001b[0m\u001b[0m\n\u001b[0m\u001b[0;32m   2671\u001b[0m \u001b[1;33m\u001b[0m\u001b[0m\n\u001b[0;32m   2672\u001b[0m \u001b[1;33m\u001b[0m\u001b[0m\n",
      "\u001b[1;32m~\\Anaconda3\\envs\\Tensorflow-GPU\\lib\\site-packages\\PIL\\Image.py\u001b[0m in \u001b[0;36mfrombuffer\u001b[1;34m(mode, size, data, decoder_name, *args)\u001b[0m\n\u001b[0;32m   2611\u001b[0m             \u001b[1;32mreturn\u001b[0m \u001b[0mim\u001b[0m\u001b[1;33m\u001b[0m\u001b[1;33m\u001b[0m\u001b[0m\n\u001b[0;32m   2612\u001b[0m \u001b[1;33m\u001b[0m\u001b[0m\n\u001b[1;32m-> 2613\u001b[1;33m     \u001b[1;32mreturn\u001b[0m \u001b[0mfrombytes\u001b[0m\u001b[1;33m(\u001b[0m\u001b[0mmode\u001b[0m\u001b[1;33m,\u001b[0m \u001b[0msize\u001b[0m\u001b[1;33m,\u001b[0m \u001b[0mdata\u001b[0m\u001b[1;33m,\u001b[0m \u001b[0mdecoder_name\u001b[0m\u001b[1;33m,\u001b[0m \u001b[0margs\u001b[0m\u001b[1;33m)\u001b[0m\u001b[1;33m\u001b[0m\u001b[1;33m\u001b[0m\u001b[0m\n\u001b[0m\u001b[0;32m   2614\u001b[0m \u001b[1;33m\u001b[0m\u001b[0m\n\u001b[0;32m   2615\u001b[0m \u001b[1;33m\u001b[0m\u001b[0m\n",
      "\u001b[1;32m~\\Anaconda3\\envs\\Tensorflow-GPU\\lib\\site-packages\\PIL\\Image.py\u001b[0m in \u001b[0;36mfrombytes\u001b[1;34m(mode, size, data, decoder_name, *args)\u001b[0m\n\u001b[0;32m   2543\u001b[0m         \u001b[0margs\u001b[0m \u001b[1;33m=\u001b[0m \u001b[0mmode\u001b[0m\u001b[1;33m\u001b[0m\u001b[1;33m\u001b[0m\u001b[0m\n\u001b[0;32m   2544\u001b[0m \u001b[1;33m\u001b[0m\u001b[0m\n\u001b[1;32m-> 2545\u001b[1;33m     \u001b[0mim\u001b[0m \u001b[1;33m=\u001b[0m \u001b[0mnew\u001b[0m\u001b[1;33m(\u001b[0m\u001b[0mmode\u001b[0m\u001b[1;33m,\u001b[0m \u001b[0msize\u001b[0m\u001b[1;33m)\u001b[0m\u001b[1;33m\u001b[0m\u001b[1;33m\u001b[0m\u001b[0m\n\u001b[0m\u001b[0;32m   2546\u001b[0m     \u001b[0mim\u001b[0m\u001b[1;33m.\u001b[0m\u001b[0mfrombytes\u001b[0m\u001b[1;33m(\u001b[0m\u001b[0mdata\u001b[0m\u001b[1;33m,\u001b[0m \u001b[0mdecoder_name\u001b[0m\u001b[1;33m,\u001b[0m \u001b[0margs\u001b[0m\u001b[1;33m)\u001b[0m\u001b[1;33m\u001b[0m\u001b[1;33m\u001b[0m\u001b[0m\n\u001b[0;32m   2547\u001b[0m     \u001b[1;32mreturn\u001b[0m \u001b[0mim\u001b[0m\u001b[1;33m\u001b[0m\u001b[1;33m\u001b[0m\u001b[0m\n",
      "\u001b[1;32m~\\Anaconda3\\envs\\Tensorflow-GPU\\lib\\site-packages\\PIL\\Image.py\u001b[0m in \u001b[0;36mnew\u001b[1;34m(mode, size, color)\u001b[0m\n\u001b[0;32m   2507\u001b[0m         \u001b[0mim\u001b[0m\u001b[1;33m.\u001b[0m\u001b[0mpalette\u001b[0m \u001b[1;33m=\u001b[0m \u001b[0mImagePalette\u001b[0m\u001b[1;33m.\u001b[0m\u001b[0mImagePalette\u001b[0m\u001b[1;33m(\u001b[0m\u001b[1;33m)\u001b[0m\u001b[1;33m\u001b[0m\u001b[1;33m\u001b[0m\u001b[0m\n\u001b[0;32m   2508\u001b[0m         \u001b[0mcolor\u001b[0m \u001b[1;33m=\u001b[0m \u001b[0mim\u001b[0m\u001b[1;33m.\u001b[0m\u001b[0mpalette\u001b[0m\u001b[1;33m.\u001b[0m\u001b[0mgetcolor\u001b[0m\u001b[1;33m(\u001b[0m\u001b[0mcolor\u001b[0m\u001b[1;33m)\u001b[0m\u001b[1;33m\u001b[0m\u001b[1;33m\u001b[0m\u001b[0m\n\u001b[1;32m-> 2509\u001b[1;33m     \u001b[1;32mreturn\u001b[0m \u001b[0mim\u001b[0m\u001b[1;33m.\u001b[0m\u001b[0m_new\u001b[0m\u001b[1;33m(\u001b[0m\u001b[0mcore\u001b[0m\u001b[1;33m.\u001b[0m\u001b[0mfill\u001b[0m\u001b[1;33m(\u001b[0m\u001b[0mmode\u001b[0m\u001b[1;33m,\u001b[0m \u001b[0msize\u001b[0m\u001b[1;33m,\u001b[0m \u001b[0mcolor\u001b[0m\u001b[1;33m)\u001b[0m\u001b[1;33m)\u001b[0m\u001b[1;33m\u001b[0m\u001b[1;33m\u001b[0m\u001b[0m\n\u001b[0m\u001b[0;32m   2510\u001b[0m \u001b[1;33m\u001b[0m\u001b[0m\n\u001b[0;32m   2511\u001b[0m \u001b[1;33m\u001b[0m\u001b[0m\n",
      "\u001b[1;31mKeyboardInterrupt\u001b[0m: "
     ]
    }
   ],
   "source": [
    "counts_and_images = [(t[0], Image.fromarray(imageio.imread(t[1])).resize((1000,1000)).convert('L')) for t in all_img_paths]"
   ]
  },
  {
   "cell_type": "code",
   "execution_count": 40,
   "metadata": {},
   "outputs": [
    {
     "data": {
      "text/plain": [
       "[('images/IMG_Niguarda1_127_121_F6_T543.png',\n",
       "  'F:\\\\Colonies_Data\\\\MicrobIA_Dataset_only_counted_processed_anonimyzed_part9/F/T4h_inf/IMG_Niguarda1_127_121_F6_T543.png'),\n",
       " ('images/IMG_Niguarda1_1352_710_S54_T962.png',\n",
       "  'F:\\\\Colonies_Data\\\\MicrobIA_Dataset_only_counted_processed_anonimyzed_part9/S/T4h_inf/IMG_Niguarda1_1352_710_S54_T962.png'),\n",
       " ('images/IMG_Niguarda1_1421_610_F6_T541.png',\n",
       "  'F:\\\\Colonies_Data\\\\MicrobIA_Dataset_only_counted_processed_anonimyzed_part9/F/T4h_inf/IMG_Niguarda1_1421_610_F6_T541.png')]"
      ]
     },
     "execution_count": 40,
     "metadata": {},
     "output_type": "execute_result"
    }
   ],
   "source": [
    "abs_rel_paths = [('images/' + t[1].split('inf/')[1], t[1]) for t in all_img_paths]\n",
    "abs_rel_paths[:3]"
   ]
  },
  {
   "cell_type": "code",
   "execution_count": 44,
   "metadata": {},
   "outputs": [
    {
     "data": {
      "text/plain": [
       "1204"
      ]
     },
     "execution_count": 44,
     "metadata": {},
     "output_type": "execute_result"
    }
   ],
   "source": [
    "len(Counter([t[0] for t in abs_rel_paths]).keys())"
   ]
  },
  {
   "cell_type": "markdown",
   "metadata": {},
   "source": [
    "## Upload the files to S3"
   ]
  },
  {
   "cell_type": "code",
   "execution_count": 32,
   "metadata": {},
   "outputs": [],
   "source": [
    "client = boto3.client('s3')\n",
    "\n",
    "client.upload_file('colony_count_relative_paths.json', BUCKET, 'colony_count_relative_paths.json')"
   ]
  },
  {
   "cell_type": "code",
   "execution_count": 45,
   "metadata": {},
   "outputs": [
    {
     "ename": "KeyboardInterrupt",
     "evalue": "",
     "output_type": "error",
     "traceback": [
      "\u001b[1;31m---------------------------------------------------------------------------\u001b[0m",
      "\u001b[1;31mKeyboardInterrupt\u001b[0m                         Traceback (most recent call last)",
      "\u001b[1;32m<ipython-input-45-803fe0416daa>\u001b[0m in \u001b[0;36m<module>\u001b[1;34m\u001b[0m\n\u001b[0;32m      1\u001b[0m \u001b[1;32mfor\u001b[0m \u001b[0mele\u001b[0m \u001b[1;32min\u001b[0m \u001b[0mabs_rel_paths\u001b[0m\u001b[1;33m:\u001b[0m\u001b[1;33m\u001b[0m\u001b[1;33m\u001b[0m\u001b[0m\n\u001b[1;32m----> 2\u001b[1;33m     \u001b[0mclient\u001b[0m\u001b[1;33m.\u001b[0m\u001b[0mupload_file\u001b[0m\u001b[1;33m(\u001b[0m\u001b[0mele\u001b[0m\u001b[1;33m[\u001b[0m\u001b[1;36m1\u001b[0m\u001b[1;33m]\u001b[0m\u001b[1;33m,\u001b[0m \u001b[0mBUCKET\u001b[0m\u001b[1;33m,\u001b[0m \u001b[0mele\u001b[0m\u001b[1;33m[\u001b[0m\u001b[1;36m0\u001b[0m\u001b[1;33m]\u001b[0m\u001b[1;33m)\u001b[0m\u001b[1;33m\u001b[0m\u001b[1;33m\u001b[0m\u001b[0m\n\u001b[0m",
      "\u001b[1;32m~\\Anaconda3\\envs\\Tensorflow-GPU\\lib\\site-packages\\boto3\\s3\\inject.py\u001b[0m in \u001b[0;36mupload_file\u001b[1;34m(self, Filename, Bucket, Key, ExtraArgs, Callback, Config)\u001b[0m\n\u001b[0;32m    129\u001b[0m         return transfer.upload_file(\n\u001b[0;32m    130\u001b[0m             \u001b[0mfilename\u001b[0m\u001b[1;33m=\u001b[0m\u001b[0mFilename\u001b[0m\u001b[1;33m,\u001b[0m \u001b[0mbucket\u001b[0m\u001b[1;33m=\u001b[0m\u001b[0mBucket\u001b[0m\u001b[1;33m,\u001b[0m \u001b[0mkey\u001b[0m\u001b[1;33m=\u001b[0m\u001b[0mKey\u001b[0m\u001b[1;33m,\u001b[0m\u001b[1;33m\u001b[0m\u001b[1;33m\u001b[0m\u001b[0m\n\u001b[1;32m--> 131\u001b[1;33m             extra_args=ExtraArgs, callback=Callback)\n\u001b[0m\u001b[0;32m    132\u001b[0m \u001b[1;33m\u001b[0m\u001b[0m\n\u001b[0;32m    133\u001b[0m \u001b[1;33m\u001b[0m\u001b[0m\n",
      "\u001b[1;32m~\\Anaconda3\\envs\\Tensorflow-GPU\\lib\\site-packages\\boto3\\s3\\transfer.py\u001b[0m in \u001b[0;36mupload_file\u001b[1;34m(self, filename, bucket, key, callback, extra_args)\u001b[0m\n\u001b[0;32m    277\u001b[0m             filename, bucket, key, extra_args, subscribers)\n\u001b[0;32m    278\u001b[0m         \u001b[1;32mtry\u001b[0m\u001b[1;33m:\u001b[0m\u001b[1;33m\u001b[0m\u001b[1;33m\u001b[0m\u001b[0m\n\u001b[1;32m--> 279\u001b[1;33m             \u001b[0mfuture\u001b[0m\u001b[1;33m.\u001b[0m\u001b[0mresult\u001b[0m\u001b[1;33m(\u001b[0m\u001b[1;33m)\u001b[0m\u001b[1;33m\u001b[0m\u001b[1;33m\u001b[0m\u001b[0m\n\u001b[0m\u001b[0;32m    280\u001b[0m         \u001b[1;31m# If a client error was raised, add the backwards compatibility layer\u001b[0m\u001b[1;33m\u001b[0m\u001b[1;33m\u001b[0m\u001b[1;33m\u001b[0m\u001b[0m\n\u001b[0;32m    281\u001b[0m         \u001b[1;31m# that raises a S3UploadFailedError. These specific errors were only\u001b[0m\u001b[1;33m\u001b[0m\u001b[1;33m\u001b[0m\u001b[1;33m\u001b[0m\u001b[0m\n",
      "\u001b[1;32m~\\Anaconda3\\envs\\Tensorflow-GPU\\lib\\site-packages\\s3transfer\\futures.py\u001b[0m in \u001b[0;36mresult\u001b[1;34m(self)\u001b[0m\n\u001b[0;32m    107\u001b[0m         \u001b[1;32mexcept\u001b[0m \u001b[0mKeyboardInterrupt\u001b[0m \u001b[1;32mas\u001b[0m \u001b[0me\u001b[0m\u001b[1;33m:\u001b[0m\u001b[1;33m\u001b[0m\u001b[1;33m\u001b[0m\u001b[0m\n\u001b[0;32m    108\u001b[0m             \u001b[0mself\u001b[0m\u001b[1;33m.\u001b[0m\u001b[0mcancel\u001b[0m\u001b[1;33m(\u001b[0m\u001b[1;33m)\u001b[0m\u001b[1;33m\u001b[0m\u001b[1;33m\u001b[0m\u001b[0m\n\u001b[1;32m--> 109\u001b[1;33m             \u001b[1;32mraise\u001b[0m \u001b[0me\u001b[0m\u001b[1;33m\u001b[0m\u001b[1;33m\u001b[0m\u001b[0m\n\u001b[0m\u001b[0;32m    110\u001b[0m \u001b[1;33m\u001b[0m\u001b[0m\n\u001b[0;32m    111\u001b[0m     \u001b[1;32mdef\u001b[0m \u001b[0mcancel\u001b[0m\u001b[1;33m(\u001b[0m\u001b[0mself\u001b[0m\u001b[1;33m)\u001b[0m\u001b[1;33m:\u001b[0m\u001b[1;33m\u001b[0m\u001b[1;33m\u001b[0m\u001b[0m\n",
      "\u001b[1;32m~\\Anaconda3\\envs\\Tensorflow-GPU\\lib\\site-packages\\s3transfer\\futures.py\u001b[0m in \u001b[0;36mresult\u001b[1;34m(self)\u001b[0m\n\u001b[0;32m    104\u001b[0m             \u001b[1;31m# however if a KeyboardInterrupt is raised we want want to exit\u001b[0m\u001b[1;33m\u001b[0m\u001b[1;33m\u001b[0m\u001b[1;33m\u001b[0m\u001b[0m\n\u001b[0;32m    105\u001b[0m             \u001b[1;31m# out of this and propogate the exception.\u001b[0m\u001b[1;33m\u001b[0m\u001b[1;33m\u001b[0m\u001b[1;33m\u001b[0m\u001b[0m\n\u001b[1;32m--> 106\u001b[1;33m             \u001b[1;32mreturn\u001b[0m \u001b[0mself\u001b[0m\u001b[1;33m.\u001b[0m\u001b[0m_coordinator\u001b[0m\u001b[1;33m.\u001b[0m\u001b[0mresult\u001b[0m\u001b[1;33m(\u001b[0m\u001b[1;33m)\u001b[0m\u001b[1;33m\u001b[0m\u001b[1;33m\u001b[0m\u001b[0m\n\u001b[0m\u001b[0;32m    107\u001b[0m         \u001b[1;32mexcept\u001b[0m \u001b[0mKeyboardInterrupt\u001b[0m \u001b[1;32mas\u001b[0m \u001b[0me\u001b[0m\u001b[1;33m:\u001b[0m\u001b[1;33m\u001b[0m\u001b[1;33m\u001b[0m\u001b[0m\n\u001b[0;32m    108\u001b[0m             \u001b[0mself\u001b[0m\u001b[1;33m.\u001b[0m\u001b[0mcancel\u001b[0m\u001b[1;33m(\u001b[0m\u001b[1;33m)\u001b[0m\u001b[1;33m\u001b[0m\u001b[1;33m\u001b[0m\u001b[0m\n",
      "\u001b[1;32m~\\Anaconda3\\envs\\Tensorflow-GPU\\lib\\site-packages\\s3transfer\\futures.py\u001b[0m in \u001b[0;36mresult\u001b[1;34m(self)\u001b[0m\n\u001b[0;32m    258\u001b[0m         \u001b[1;31m# possible value integer value, which is on the scale of billions of\u001b[0m\u001b[1;33m\u001b[0m\u001b[1;33m\u001b[0m\u001b[1;33m\u001b[0m\u001b[0m\n\u001b[0;32m    259\u001b[0m         \u001b[1;31m# years...\u001b[0m\u001b[1;33m\u001b[0m\u001b[1;33m\u001b[0m\u001b[1;33m\u001b[0m\u001b[0m\n\u001b[1;32m--> 260\u001b[1;33m         \u001b[0mself\u001b[0m\u001b[1;33m.\u001b[0m\u001b[0m_done_event\u001b[0m\u001b[1;33m.\u001b[0m\u001b[0mwait\u001b[0m\u001b[1;33m(\u001b[0m\u001b[0mMAXINT\u001b[0m\u001b[1;33m)\u001b[0m\u001b[1;33m\u001b[0m\u001b[1;33m\u001b[0m\u001b[0m\n\u001b[0m\u001b[0;32m    261\u001b[0m \u001b[1;33m\u001b[0m\u001b[0m\n\u001b[0;32m    262\u001b[0m         \u001b[1;31m# Once done waiting, raise an exception if present or return the\u001b[0m\u001b[1;33m\u001b[0m\u001b[1;33m\u001b[0m\u001b[1;33m\u001b[0m\u001b[0m\n",
      "\u001b[1;32m~\\Anaconda3\\envs\\Tensorflow-GPU\\lib\\threading.py\u001b[0m in \u001b[0;36mwait\u001b[1;34m(self, timeout)\u001b[0m\n\u001b[0;32m    550\u001b[0m             \u001b[0msignaled\u001b[0m \u001b[1;33m=\u001b[0m \u001b[0mself\u001b[0m\u001b[1;33m.\u001b[0m\u001b[0m_flag\u001b[0m\u001b[1;33m\u001b[0m\u001b[1;33m\u001b[0m\u001b[0m\n\u001b[0;32m    551\u001b[0m             \u001b[1;32mif\u001b[0m \u001b[1;32mnot\u001b[0m \u001b[0msignaled\u001b[0m\u001b[1;33m:\u001b[0m\u001b[1;33m\u001b[0m\u001b[1;33m\u001b[0m\u001b[0m\n\u001b[1;32m--> 552\u001b[1;33m                 \u001b[0msignaled\u001b[0m \u001b[1;33m=\u001b[0m \u001b[0mself\u001b[0m\u001b[1;33m.\u001b[0m\u001b[0m_cond\u001b[0m\u001b[1;33m.\u001b[0m\u001b[0mwait\u001b[0m\u001b[1;33m(\u001b[0m\u001b[0mtimeout\u001b[0m\u001b[1;33m)\u001b[0m\u001b[1;33m\u001b[0m\u001b[1;33m\u001b[0m\u001b[0m\n\u001b[0m\u001b[0;32m    553\u001b[0m             \u001b[1;32mreturn\u001b[0m \u001b[0msignaled\u001b[0m\u001b[1;33m\u001b[0m\u001b[1;33m\u001b[0m\u001b[0m\n\u001b[0;32m    554\u001b[0m \u001b[1;33m\u001b[0m\u001b[0m\n",
      "\u001b[1;32m~\\Anaconda3\\envs\\Tensorflow-GPU\\lib\\threading.py\u001b[0m in \u001b[0;36mwait\u001b[1;34m(self, timeout)\u001b[0m\n\u001b[0;32m    294\u001b[0m         \u001b[1;32mtry\u001b[0m\u001b[1;33m:\u001b[0m    \u001b[1;31m# restore state no matter what (e.g., KeyboardInterrupt)\u001b[0m\u001b[1;33m\u001b[0m\u001b[1;33m\u001b[0m\u001b[0m\n\u001b[0;32m    295\u001b[0m             \u001b[1;32mif\u001b[0m \u001b[0mtimeout\u001b[0m \u001b[1;32mis\u001b[0m \u001b[1;32mNone\u001b[0m\u001b[1;33m:\u001b[0m\u001b[1;33m\u001b[0m\u001b[1;33m\u001b[0m\u001b[0m\n\u001b[1;32m--> 296\u001b[1;33m                 \u001b[0mwaiter\u001b[0m\u001b[1;33m.\u001b[0m\u001b[0macquire\u001b[0m\u001b[1;33m(\u001b[0m\u001b[1;33m)\u001b[0m\u001b[1;33m\u001b[0m\u001b[1;33m\u001b[0m\u001b[0m\n\u001b[0m\u001b[0;32m    297\u001b[0m                 \u001b[0mgotit\u001b[0m \u001b[1;33m=\u001b[0m \u001b[1;32mTrue\u001b[0m\u001b[1;33m\u001b[0m\u001b[1;33m\u001b[0m\u001b[0m\n\u001b[0;32m    298\u001b[0m             \u001b[1;32melse\u001b[0m\u001b[1;33m:\u001b[0m\u001b[1;33m\u001b[0m\u001b[1;33m\u001b[0m\u001b[0m\n",
      "\u001b[1;31mKeyboardInterrupt\u001b[0m: "
     ]
    }
   ],
   "source": [
    "for ele in abs_rel_paths:\n",
    "    client.upload_file(ele[1], BUCKET, ele[0])"
   ]
  },
  {
   "cell_type": "code",
   "execution_count": null,
   "metadata": {},
   "outputs": [],
   "source": []
  }
 ],
 "metadata": {
  "kernelspec": {
   "display_name": "Python (tf-GPU)",
   "language": "python",
   "name": "tensorflow_env"
  },
  "language_info": {
   "codemirror_mode": {
    "name": "ipython",
    "version": 3
   },
   "file_extension": ".py",
   "mimetype": "text/x-python",
   "name": "python",
   "nbconvert_exporter": "python",
   "pygments_lexer": "ipython3",
   "version": "3.7.3"
  }
 },
 "nbformat": 4,
 "nbformat_minor": 2
}
