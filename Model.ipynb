{
 "cells": [
  {
   "cell_type": "code",
   "execution_count": 1,
   "metadata": {},
   "outputs": [
    {
     "name": "stderr",
     "output_type": "stream",
     "text": [
      "Using TensorFlow backend.\n"
     ]
    }
   ],
   "source": [
    "import warnings\n",
    "warnings.filterwarnings('ignore')\n",
    "import keras\n",
    "import sys \n",
    "\n",
    "from keras_preprocessing.image import ImageDataGenerator\n",
    "from keras.models import Sequential\n",
    "from keras.layers import Activation, Conv2D, Dense, Dropout, Flatten, MaxPooling2D, BatchNormalization"
   ]
  },
  {
   "cell_type": "code",
   "execution_count": 3,
   "metadata": {},
   "outputs": [],
   "source": [
    "model = Sequential()\n",
    "model.add(Conv2D(20, (5,5), activation='relu', input_shape=(128,128,3)))\n",
    "model.add(BatchNormalization(momentum=0.9))\n",
    "model.add(MaxPooling2D())\n",
    "model.add(Conv2D(50, (5,5), activation='relu'))\n",
    "model.add(BatchNormalization(momentum=0.9))\n",
    "model.add(MaxPooling2D())\n",
    "model.add(Conv2D(100, (4,4), activation='relu'))\n",
    "model.add(MaxPooling2D())\n",
    "model.add(Conv2D(200, (4,4), activation='relu'))\n",
    "model.add(MaxPooling2D())\n",
    "model.add(Dropout(rate=0.25))\n",
    "model.add(Flatten())\n",
    "model.add(Dense(500))\n",
    "model.add(Dropout(rate=0.25))\n",
    "model.add(Dense(8))\n",
    "model.add(Activation('softmax'))\n"
   ]
  },
  {
   "cell_type": "code",
   "execution_count": 60,
   "metadata": {},
   "outputs": [
    {
     "name": "stdout",
     "output_type": "stream",
     "text": [
      "(None, 124, 124, 20)\n",
      "(None, 124, 124, 20)\n",
      "(None, 62, 62, 20)\n",
      "(None, 58, 58, 50)\n",
      "(None, 58, 58, 50)\n",
      "(None, 29, 29, 50)\n",
      "(None, 26, 26, 100)\n",
      "(None, 13, 13, 100)\n",
      "(None, 10, 10, 200)\n",
      "(None, 5, 5, 200)\n",
      "(None, 5, 5, 200)\n",
      "(None, 5000)\n",
      "(None, 500)\n",
      "(None, 500)\n",
      "(None, 8)\n",
      "(None, 8)\n"
     ]
    }
   ],
   "source": [
    "for layer in model.layers:\n",
    "    print(layer.output_shape)"
   ]
  },
  {
   "cell_type": "code",
   "execution_count": 5,
   "metadata": {},
   "outputs": [],
   "source": [
    "datagen = ImageDataGenerator(rotation_range=30, \n",
    "                             width_shift_range=0.2,\n",
    "                             height_shift_range=0.2,\n",
    "                             horizontal_flip=True,\n",
    "                             vertical_flip=True\n",
    "                            )\n",
    "\n",
    "if 'win32' in sys.platform:\n",
    "    data_directory='F:\\\\Segmentation_Data\\\\'\n",
    "    full_data_directory = data_directory + 'Labelled_imgs\\\\'"
   ]
  },
  {
   "cell_type": "code",
   "execution_count": 6,
   "metadata": {},
   "outputs": [
    {
     "name": "stdout",
     "output_type": "stream",
     "text": [
      "Found 29267 images belonging to 8 classes.\n"
     ]
    }
   ],
   "source": [
    "complete_generator = datagen.flow_from_directory(full_data_directory, target_size=(128, 128), color_mode=\"rgb\")"
   ]
  },
  {
   "cell_type": "code",
   "execution_count": 8,
   "metadata": {},
   "outputs": [
    {
     "name": "stdout",
     "output_type": "stream",
     "text": [
      "Epoch 1/10\n",
      "1000/1000 [==============================] - 160s 160ms/step - loss: 1.1201 - acc: 0.5864\n",
      "Epoch 2/10\n",
      "1000/1000 [==============================] - 103s 103ms/step - loss: 0.9295 - acc: 0.6474\n",
      "Epoch 3/10\n",
      "1000/1000 [==============================] - 104s 104ms/step - loss: 0.8264 - acc: 0.6866\n",
      "Epoch 4/10\n",
      "1000/1000 [==============================] - 104s 104ms/step - loss: 0.7548 - acc: 0.7115s - loss: 0.754\n",
      "Epoch 5/10\n",
      "1000/1000 [==============================] - 105s 105ms/step - loss: 0.7039 - acc: 0.7299\n",
      "Epoch 6/10\n",
      "1000/1000 [==============================] - 104s 104ms/step - loss: 0.6768 - acc: 0.7449s - ETA: 2s - loss: \n",
      "Epoch 7/10\n",
      "1000/1000 [==============================] - 105s 105ms/step - loss: 0.6452 - acc: 0.7539s - loss: 0.6456 - acc:\n",
      "Epoch 8/10\n",
      "1000/1000 [==============================] - 105s 105ms/step - loss: 0.6181 - acc: 0.7653\n",
      "Epoch 9/10\n",
      "1000/1000 [==============================] - 103s 103ms/step - loss: 0.6075 - acc: 0.7698\n",
      "Epoch 10/10\n",
      "1000/1000 [==============================] - 104s 104ms/step - loss: 0.5960 - acc: 0.7762\n"
     ]
    },
    {
     "data": {
      "text/plain": [
       "<keras.callbacks.History at 0x232f3404710>"
      ]
     },
     "execution_count": 8,
     "metadata": {},
     "output_type": "execute_result"
    }
   ],
   "source": [
    "model.compile(optimizer='sgd', loss='categorical_crossentropy', metrics=['accuracy'])\n",
    "model.fit_generator(complete_generator, verbose=1, steps_per_epoch=1000, epochs=10)"
   ]
  },
  {
   "cell_type": "code",
   "execution_count": null,
   "metadata": {},
   "outputs": [],
   "source": []
  }
 ],
 "metadata": {
  "kernelspec": {
   "display_name": "Python (tf-GPU)",
   "language": "python",
   "name": "tensorflow_env"
  },
  "language_info": {
   "codemirror_mode": {
    "name": "ipython",
    "version": 3
   },
   "file_extension": ".py",
   "mimetype": "text/x-python",
   "name": "python",
   "nbconvert_exporter": "python",
   "pygments_lexer": "ipython3",
   "version": "3.7.3"
  }
 },
 "nbformat": 4,
 "nbformat_minor": 2
}
