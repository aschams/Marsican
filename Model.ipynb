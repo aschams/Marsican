{
 "cells": [
  {
   "cell_type": "code",
   "execution_count": 52,
   "metadata": {},
   "outputs": [],
   "source": [
    "import warnings\n",
    "warnings.filterwarnings('ignore')\n",
    "import keras\n",
    "import sys \n",
    "\n",
    "from keras_preprocessing.image import ImageDataGenerator\n",
    "from keras.models import Sequential\n",
    "from keras.layers import Activation, Conv2D, Dense, Dropout, Flatten, MaxPooling2D, BatchNormalization"
   ]
  },
  {
   "cell_type": "code",
   "execution_count": 59,
   "metadata": {},
   "outputs": [],
   "source": [
    "model = Sequential()\n",
    "model.add(Conv2D(20, (5,5), activation='relu', input_shape=(128,128,3)))\n",
    "model.add(BatchNormalization(momentum=0.9))\n",
    "model.add(MaxPooling2D())\n",
    "model.add(Conv2D(50, (5,5), activation='relu'))\n",
    "model.add(BatchNormalization(momentum=0.9))\n",
    "model.add(MaxPooling2D())\n",
    "model.add(Conv2D(100, (4,4), activation='relu'))\n",
    "model.add(MaxPooling2D())\n",
    "model.add(Conv2D(200, (4,4), activation='relu'))\n",
    "model.add(MaxPooling2D())\n",
    "model.add(Dropout(0.25))\n",
    "model.add(Flatten())\n",
    "model.add(Dense(500))\n",
    "model.add(Dropout(0.25))\n",
    "model.add(Dense(8))\n",
    "model.add(Activation('softmax'))\n"
   ]
  },
  {
   "cell_type": "code",
   "execution_count": 60,
   "metadata": {},
   "outputs": [
    {
     "name": "stdout",
     "output_type": "stream",
     "text": [
      "(None, 124, 124, 20)\n",
      "(None, 124, 124, 20)\n",
      "(None, 62, 62, 20)\n",
      "(None, 58, 58, 50)\n",
      "(None, 58, 58, 50)\n",
      "(None, 29, 29, 50)\n",
      "(None, 26, 26, 100)\n",
      "(None, 13, 13, 100)\n",
      "(None, 10, 10, 200)\n",
      "(None, 5, 5, 200)\n",
      "(None, 5, 5, 200)\n",
      "(None, 5000)\n",
      "(None, 500)\n",
      "(None, 500)\n",
      "(None, 8)\n",
      "(None, 8)\n"
     ]
    }
   ],
   "source": [
    "for layer in model.layers:\n",
    "    print(layer.output_shape)"
   ]
  },
  {
   "cell_type": "code",
   "execution_count": 61,
   "metadata": {},
   "outputs": [],
   "source": [
    "datagen = ImageDataGenerator(rotation_range=30, \n",
    "                             width_shift_range=0.2,\n",
    "                             height_shift_range=0.2,\n",
    "                             horizontal_flip=True,\n",
    "                             vertical_flip=True\n",
    "                            )\n",
    "\n",
    "if 'win' in sys.platform:\n",
    "    data_directory='F:\\\\Segmentation_Data\\\\'\n",
    "    full_data_directory = data_directory + 'Labelled_imgs\\\\'"
   ]
  },
  {
   "cell_type": "code",
   "execution_count": 62,
   "metadata": {},
   "outputs": [
    {
     "name": "stdout",
     "output_type": "stream",
     "text": [
      "Found 29267 images belonging to 8 classes.\n"
     ]
    }
   ],
   "source": [
    "complete_generator = datagen.flow_from_directory(full_data_directory, target_size=(128, 128), color_mode=\"rgb\")"
   ]
  },
  {
   "cell_type": "code",
   "execution_count": 65,
   "metadata": {},
   "outputs": [
    {
     "name": "stdout",
     "output_type": "stream",
     "text": [
      "Epoch 1/1\n",
      "100/100 [==============================] - 20s 200ms/step - loss: 1.7019 - acc: 0.4894\n"
     ]
    },
    {
     "data": {
      "text/plain": [
       "<keras.callbacks.History at 0x242755031d0>"
      ]
     },
     "execution_count": 65,
     "metadata": {},
     "output_type": "execute_result"
    }
   ],
   "source": [
    "model.compile(optimizer='sgd', loss='categorical_crossentropy', metrics=['accuracy'])\n",
    "model.fit_generator(complete_generator, verbose=1, steps_per_epoch=100)"
   ]
  },
  {
   "cell_type": "code",
   "execution_count": 64,
   "metadata": {},
   "outputs": [
    {
     "name": "stdout",
     "output_type": "stream",
     "text": [
      "_________________________________________________________________\n",
      "Layer (type)                 Output Shape              Param #   \n",
      "=================================================================\n",
      "conv2d_43 (Conv2D)           (None, 124, 124, 20)      1520      \n",
      "_________________________________________________________________\n",
      "batch_normalization_24 (Batc (None, 124, 124, 20)      80        \n",
      "_________________________________________________________________\n",
      "max_pooling2d_39 (MaxPooling (None, 62, 62, 20)        0         \n",
      "_________________________________________________________________\n",
      "conv2d_44 (Conv2D)           (None, 58, 58, 50)        25050     \n",
      "_________________________________________________________________\n",
      "batch_normalization_25 (Batc (None, 58, 58, 50)        200       \n",
      "_________________________________________________________________\n",
      "max_pooling2d_40 (MaxPooling (None, 29, 29, 50)        0         \n",
      "_________________________________________________________________\n",
      "conv2d_45 (Conv2D)           (None, 26, 26, 100)       80100     \n",
      "_________________________________________________________________\n",
      "max_pooling2d_41 (MaxPooling (None, 13, 13, 100)       0         \n",
      "_________________________________________________________________\n",
      "conv2d_46 (Conv2D)           (None, 10, 10, 200)       320200    \n",
      "_________________________________________________________________\n",
      "max_pooling2d_42 (MaxPooling (None, 5, 5, 200)         0         \n",
      "_________________________________________________________________\n",
      "dropout_20 (Dropout)         (None, 5, 5, 200)         0         \n",
      "_________________________________________________________________\n",
      "flatten_3 (Flatten)          (None, 5000)              0         \n",
      "_________________________________________________________________\n",
      "dense_14 (Dense)             (None, 500)               2500500   \n",
      "_________________________________________________________________\n",
      "dropout_21 (Dropout)         (None, 500)               0         \n",
      "_________________________________________________________________\n",
      "dense_15 (Dense)             (None, 8)                 4008      \n",
      "_________________________________________________________________\n",
      "activation_12 (Activation)   (None, 8)                 0         \n",
      "=================================================================\n",
      "Total params: 2,931,658\n",
      "Trainable params: 2,931,518\n",
      "Non-trainable params: 140\n",
      "_________________________________________________________________\n"
     ]
    }
   ],
   "source": [
    "model.summary()"
   ]
  },
  {
   "cell_type": "code",
   "execution_count": null,
   "metadata": {},
   "outputs": [],
   "source": []
  }
 ],
 "metadata": {
  "kernelspec": {
   "display_name": "Python (tf-GPU)",
   "language": "python",
   "name": "tensorflow_env"
  },
  "language_info": {
   "codemirror_mode": {
    "name": "ipython",
    "version": 3
   },
   "file_extension": ".py",
   "mimetype": "text/x-python",
   "name": "python",
   "nbconvert_exporter": "python",
   "pygments_lexer": "ipython3",
   "version": "3.7.3"
  }
 },
 "nbformat": 4,
 "nbformat_minor": 2
}
