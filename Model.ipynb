{
 "cells": [
  {
   "cell_type": "code",
   "execution_count": 16,
   "metadata": {},
   "outputs": [],
   "source": [
    "import warnings\n",
    "warnings.filterwarnings('ignore')\n",
    "import sys\n",
    "\n",
    "import keras\n",
    "import numpy as np\n",
    "from keras_preprocessing.image import ImageDataGenerator\n",
    "from keras.models import Sequential\n",
    "from keras.layers import Activation, Conv2D, Dense, Dropout, Flatten, MaxPooling2D, BatchNormalization\n",
    "from sklearn.metrics import confusion_matrix, classification_report\n",
    "from sklearn.utils import class_weight"
   ]
  },
  {
   "cell_type": "code",
   "execution_count": 17,
   "metadata": {},
   "outputs": [],
   "source": [
    "datagen = ImageDataGenerator(rotation_range=30, \n",
    "                             width_shift_range=0.2,\n",
    "                             height_shift_range=0.2,\n",
    "                             horizontal_flip=True,\n",
    "                             vertical_flip=True\n",
    "                            )\n",
    "\n",
    "if 'win32' in sys.platform:\n",
    "    data_directory='F:\\\\Segmentation_Data\\\\'\n",
    "    full_training_directory = data_directory + 'Labelled_imgs\\\\data_for_generator\\\\training\\\\'\n",
    "    full_validation_directory = data_directory +'Labelled_imgs\\\\data_for_generator\\\\validation\\\\'"
   ]
  },
  {
   "cell_type": "code",
   "execution_count": 18,
   "metadata": {},
   "outputs": [
    {
     "name": "stdout",
     "output_type": "stream",
     "text": [
      "Found 19890 images belonging to 7 classes.\n",
      "Found 8524 images belonging to 7 classes.\n"
     ]
    }
   ],
   "source": [
    "batch_size = 32\n",
    "train_generator = datagen.flow_from_directory(full_training_directory, \n",
    "                                              target_size=(128, 128), \n",
    "                                              color_mode=\"rgb\", \n",
    "                                              batch_size=batch_size)\n",
    "validation_generator = datagen.flow_from_directory(full_validation_directory,\n",
    "                                                   target_size=(128, 128), \n",
    "                                                   color_mode='rgb',\n",
    "                                                   batch_size=batch_size, \n",
    "                                                   shuffle=False)\n",
    "num_classes = len(train_generator.class_indices)\n",
    "num_test_samples = 8524\n",
    "\n",
    "class_weights = class_weight.compute_class_weight(\n",
    "           'balanced',\n",
    "            np.unique(train_generator.classes), \n",
    "            train_generator.classes)"
   ]
  },
  {
   "cell_type": "code",
   "execution_count": 19,
   "metadata": {},
   "outputs": [],
   "source": [
    "model = Sequential()\n",
    "model.add(Conv2D(20, (5,5), activation='relu', input_shape=(128,128,3)))\n",
    "model.add(BatchNormalization(momentum=0.9))\n",
    "model.add(MaxPooling2D())\n",
    "model.add(Conv2D(50, (5,5), activation='relu'))\n",
    "model.add(BatchNormalization(momentum=0.9))\n",
    "model.add(MaxPooling2D())\n",
    "model.add(Conv2D(100, (4,4), activation='relu'))\n",
    "model.add(MaxPooling2D())\n",
    "model.add(Conv2D(200, (4,4), activation='relu'))\n",
    "model.add(MaxPooling2D())\n",
    "model.add(Dropout(rate=0.25))\n",
    "model.add(Flatten())\n",
    "model.add(Dense(500))\n",
    "model.add(Dropout(rate=0.25))\n",
    "model.add(Dense(num_classes))\n",
    "model.add(Activation('softmax'))\n"
   ]
  },
  {
   "cell_type": "code",
   "execution_count": 6,
   "metadata": {},
   "outputs": [
    {
     "name": "stderr",
     "output_type": "stream",
     "text": [
      "W0821 18:32:16.496249  9168 deprecation_wrapper.py:119] From C:\\Users\\acsch\\Anaconda3\\envs\\Tensorflow-GPU\\lib\\site-packages\\keras\\optimizers.py:790: The name tf.train.Optimizer is deprecated. Please use tf.compat.v1.train.Optimizer instead.\n",
      "\n",
      "W0821 18:32:16.570051  9168 deprecation.py:323] From C:\\Users\\acsch\\Anaconda3\\envs\\Tensorflow-GPU\\lib\\site-packages\\tensorflow\\python\\ops\\math_grad.py:1250: add_dispatch_support.<locals>.wrapper (from tensorflow.python.ops.array_ops) is deprecated and will be removed in a future version.\n",
      "Instructions for updating:\n",
      "Use tf.where in 2.0, which has the same broadcast rule as np.where\n"
     ]
    },
    {
     "name": "stdout",
     "output_type": "stream",
     "text": [
      "Epoch 1/100\n",
      "1000/1000 [==============================] - 176s 176ms/step - loss: 1.1405 - acc: 0.5794 - val_loss: 0.9296 - val_acc: 0.6420\n",
      "Epoch 2/100\n",
      "1000/1000 [==============================] - 128s 128ms/step - loss: 0.9320 - acc: 0.6428 - val_loss: 0.8477 - val_acc: 0.6815\n",
      "Epoch 3/100\n",
      "1000/1000 [==============================] - 121s 121ms/step - loss: 0.8226 - acc: 0.6838 - val_loss: 0.8615 - val_acc: 0.6492\n",
      "Epoch 4/100\n",
      "1000/1000 [==============================] - 125s 125ms/step - loss: 0.7534 - acc: 0.7107 - val_loss: 0.7134 - val_acc: 0.7299\n",
      "Epoch 5/100\n",
      "1000/1000 [==============================] - 130s 130ms/step - loss: 0.6992 - acc: 0.7337 - val_loss: 0.6621 - val_acc: 0.7442\n",
      "Epoch 6/100\n",
      "1000/1000 [==============================] - 120s 120ms/step - loss: 0.6619 - acc: 0.7495 - val_loss: 0.6190 - val_acc: 0.7653\n",
      "Epoch 7/100\n",
      "1000/1000 [==============================] - 120s 120ms/step - loss: 0.6425 - acc: 0.7543 - val_loss: 0.6132 - val_acc: 0.7654\n",
      "Epoch 8/100\n",
      "1000/1000 [==============================] - 120s 120ms/step - loss: 0.6127 - acc: 0.7654 - val_loss: 0.5979 - val_acc: 0.7725\n",
      "Epoch 9/100\n",
      "1000/1000 [==============================] - 120s 120ms/step - loss: 0.5884 - acc: 0.7733 - val_loss: 0.5954 - val_acc: 0.7814\n",
      "Epoch 10/100\n",
      "1000/1000 [==============================] - 119s 119ms/step - loss: 0.5850 - acc: 0.7760 - val_loss: 0.5674 - val_acc: 0.7873\n",
      "Epoch 11/100\n",
      "1000/1000 [==============================] - 119s 119ms/step - loss: 0.5617 - acc: 0.7850 - val_loss: 0.5429 - val_acc: 0.7946\n",
      "Epoch 12/100\n",
      "1000/1000 [==============================] - 119s 119ms/step - loss: 0.5553 - acc: 0.7876 - val_loss: 0.5510 - val_acc: 0.7892\n",
      "Epoch 13/100\n",
      "1000/1000 [==============================] - 119s 119ms/step - loss: 0.5374 - acc: 0.7951 - val_loss: 0.5601 - val_acc: 0.7888\n",
      "Epoch 14/100\n",
      "1000/1000 [==============================] - 119s 119ms/step - loss: 0.5333 - acc: 0.7947 - val_loss: 0.5313 - val_acc: 0.8062\n",
      "Epoch 15/100\n",
      "1000/1000 [==============================] - 119s 119ms/step - loss: 0.5201 - acc: 0.8002 - val_loss: 0.4980 - val_acc: 0.8139\n",
      "Epoch 16/100\n",
      "1000/1000 [==============================] - 119s 119ms/step - loss: 0.5152 - acc: 0.8070 - val_loss: 0.5069 - val_acc: 0.8137\n",
      "Epoch 17/100\n",
      "1000/1000 [==============================] - 119s 119ms/step - loss: 0.5095 - acc: 0.8036 - val_loss: 0.5147 - val_acc: 0.8088\n",
      "Epoch 18/100\n",
      "1000/1000 [==============================] - 119s 119ms/step - loss: 0.5041 - acc: 0.8058 - val_loss: 0.5422 - val_acc: 0.7998\n",
      "Epoch 19/100\n",
      "1000/1000 [==============================] - 119s 119ms/step - loss: 0.4930 - acc: 0.8121 - val_loss: 0.4971 - val_acc: 0.8180\n",
      "Epoch 20/100\n",
      "1000/1000 [==============================] - 121s 121ms/step - loss: 0.4887 - acc: 0.8137 - val_loss: 0.4886 - val_acc: 0.8171\n",
      "Epoch 21/100\n",
      "1000/1000 [==============================] - 120s 120ms/step - loss: 0.4835 - acc: 0.8156 - val_loss: 0.4979 - val_acc: 0.8143\n",
      "Epoch 22/100\n",
      "1000/1000 [==============================] - 120s 120ms/step - loss: 0.4806 - acc: 0.8154 - val_loss: 0.5010 - val_acc: 0.8124\n",
      "Epoch 23/100\n",
      "1000/1000 [==============================] - 121s 121ms/step - loss: 0.4777 - acc: 0.8191 - val_loss: 0.5161 - val_acc: 0.8113\n",
      "Epoch 24/100\n",
      "1000/1000 [==============================] - 120s 120ms/step - loss: 0.4662 - acc: 0.8241 - val_loss: 0.4742 - val_acc: 0.8239\n",
      "Epoch 25/100\n",
      "1000/1000 [==============================] - 121s 121ms/step - loss: 0.4720 - acc: 0.8198 - val_loss: 0.4668 - val_acc: 0.8230\n",
      "Epoch 26/100\n",
      "1000/1000 [==============================] - 125s 125ms/step - loss: 0.4656 - acc: 0.8258 - val_loss: 0.4839 - val_acc: 0.8173\n",
      "Epoch 27/100\n",
      "1000/1000 [==============================] - 121s 121ms/step - loss: 0.4586 - acc: 0.8264 - val_loss: 0.4582 - val_acc: 0.8316\n",
      "Epoch 28/100\n",
      "1000/1000 [==============================] - 124s 124ms/step - loss: 0.4544 - acc: 0.8284 - val_loss: 0.4770 - val_acc: 0.8223\n",
      "Epoch 29/100\n",
      "1000/1000 [==============================] - 122s 122ms/step - loss: 0.4525 - acc: 0.8275 - val_loss: 0.4936 - val_acc: 0.80724515 -\n",
      "Epoch 30/100\n",
      "1000/1000 [==============================] - 120s 120ms/step - loss: 0.4441 - acc: 0.8308 - val_loss: 0.4552 - val_acc: 0.8322\n",
      "Epoch 31/100\n",
      "1000/1000 [==============================] - 119s 119ms/step - loss: 0.4413 - acc: 0.8308 - val_loss: 0.4640 - val_acc: 0.8275\n",
      "Epoch 32/100\n",
      "1000/1000 [==============================] - 119s 119ms/step - loss: 0.4377 - acc: 0.8330 - val_loss: 0.4395 - val_acc: 0.8351\n",
      "Epoch 33/100\n",
      "1000/1000 [==============================] - 119s 119ms/step - loss: 0.4409 - acc: 0.8328 - val_loss: 0.4960 - val_acc: 0.8083\n",
      "Epoch 34/100\n",
      "1000/1000 [==============================] - 119s 119ms/step - loss: 0.4367 - acc: 0.8338 - val_loss: 0.4356 - val_acc: 0.8432\n",
      "Epoch 35/100\n",
      "1000/1000 [==============================] - 119s 119ms/step - loss: 0.4282 - acc: 0.8358 - val_loss: 0.4384 - val_acc: 0.8381\n",
      "Epoch 36/100\n",
      "1000/1000 [==============================] - 119s 119ms/step - loss: 0.4294 - acc: 0.8384 - val_loss: 0.4374 - val_acc: 0.8348\n",
      "Epoch 37/100\n",
      "1000/1000 [==============================] - 119s 119ms/step - loss: 0.4236 - acc: 0.8395 - val_loss: 0.4292 - val_acc: 0.8399\n",
      "Epoch 38/100\n",
      "1000/1000 [==============================] - 119s 119ms/step - loss: 0.4160 - acc: 0.8394 - val_loss: 0.4556 - val_acc: 0.8324\n",
      "Epoch 39/100\n",
      "1000/1000 [==============================] - 119s 119ms/step - loss: 0.4227 - acc: 0.8391 - val_loss: 0.4582 - val_acc: 0.8273\n",
      "Epoch 40/100\n",
      "1000/1000 [==============================] - 119s 119ms/step - loss: 0.4200 - acc: 0.8396 - val_loss: 0.4294 - val_acc: 0.8402\n",
      "Epoch 41/100\n",
      "1000/1000 [==============================] - 119s 119ms/step - loss: 0.4154 - acc: 0.8417 - val_loss: 0.4414 - val_acc: 0.8341\n",
      "Epoch 42/100\n",
      "1000/1000 [==============================] - 118s 118ms/step - loss: 0.4159 - acc: 0.8437 - val_loss: 0.4303 - val_acc: 0.8421\n",
      "Epoch 43/100\n",
      "1000/1000 [==============================] - 118s 118ms/step - loss: 0.4096 - acc: 0.8454 - val_loss: 0.4313 - val_acc: 0.8474\n",
      "Epoch 44/100\n",
      "1000/1000 [==============================] - 119s 119ms/step - loss: 0.4118 - acc: 0.8443 - val_loss: 0.4410 - val_acc: 0.8399\n",
      "Epoch 45/100\n",
      "1000/1000 [==============================] - 118s 118ms/step - loss: 0.4097 - acc: 0.8433 - val_loss: 0.4219 - val_acc: 0.8421\n",
      "Epoch 46/100\n",
      "1000/1000 [==============================] - 119s 119ms/step - loss: 0.4049 - acc: 0.8459 - val_loss: 0.4075 - val_acc: 0.8519\n",
      "Epoch 47/100\n",
      "1000/1000 [==============================] - 119s 119ms/step - loss: 0.4046 - acc: 0.8464 - val_loss: 0.4306 - val_acc: 0.8459\n",
      "Epoch 48/100\n",
      "1000/1000 [==============================] - 119s 119ms/step - loss: 0.4041 - acc: 0.8469 - val_loss: 0.4289 - val_acc: 0.8361\n",
      "Epoch 49/100\n",
      "1000/1000 [==============================] - 119s 119ms/step - loss: 0.3979 - acc: 0.8483 - val_loss: 0.4169 - val_acc: 0.8487\n",
      "Epoch 50/100\n",
      "1000/1000 [==============================] - 119s 119ms/step - loss: 0.4046 - acc: 0.8450 - val_loss: 0.4367 - val_acc: 0.8336\n",
      "Epoch 51/100\n",
      "1000/1000 [==============================] - 119s 119ms/step - loss: 0.3910 - acc: 0.8502 - val_loss: 0.4207 - val_acc: 0.8514\n",
      "Epoch 52/100\n",
      "1000/1000 [==============================] - 119s 119ms/step - loss: 0.3865 - acc: 0.8531 - val_loss: 0.4153 - val_acc: 0.8470\n",
      "Epoch 53/100\n",
      "1000/1000 [==============================] - 119s 119ms/step - loss: 0.3912 - acc: 0.8507 - val_loss: 0.4130 - val_acc: 0.8452\n",
      "Epoch 54/100\n",
      "1000/1000 [==============================] - 119s 119ms/step - loss: 0.3896 - acc: 0.8510 - val_loss: 0.4354 - val_acc: 0.8435\n",
      "Epoch 55/100\n",
      "1000/1000 [==============================] - 119s 119ms/step - loss: 0.3855 - acc: 0.8521 - val_loss: 0.4392 - val_acc: 0.8397\n",
      "Epoch 56/100\n",
      "1000/1000 [==============================] - 119s 119ms/step - loss: 0.3849 - acc: 0.8536 - val_loss: 0.4188 - val_acc: 0.8450\n",
      "Epoch 57/100\n",
      "1000/1000 [==============================] - 118s 118ms/step - loss: 0.3808 - acc: 0.8545 - val_loss: 0.4173 - val_acc: 0.8448\n",
      "Epoch 58/100\n",
      "1000/1000 [==============================] - 119s 119ms/step - loss: 0.3867 - acc: 0.8498 - val_loss: 0.4240 - val_acc: 0.8498\n",
      "Epoch 59/100\n"
     ]
    },
    {
     "name": "stdout",
     "output_type": "stream",
     "text": [
      "1000/1000 [==============================] - 119s 119ms/step - loss: 0.3801 - acc: 0.8523 - val_loss: 0.3863 - val_acc: 0.8524\n",
      "Epoch 60/100\n",
      "1000/1000 [==============================] - 119s 119ms/step - loss: 0.3811 - acc: 0.8537 - val_loss: 0.4022 - val_acc: 0.8571\n",
      "Epoch 61/100\n",
      "1000/1000 [==============================] - 118s 118ms/step - loss: 0.3794 - acc: 0.8524 - val_loss: 0.4137 - val_acc: 0.84536s\n",
      "Epoch 62/100\n",
      "1000/1000 [==============================] - 119s 119ms/step - loss: 0.3810 - acc: 0.8547 - val_loss: 0.4103 - val_acc: 0.8466\n",
      "Epoch 63/100\n",
      "1000/1000 [==============================] - 119s 119ms/step - loss: 0.3737 - acc: 0.8573 - val_loss: 0.4129 - val_acc: 0.8459\n",
      "Epoch 64/100\n",
      "1000/1000 [==============================] - 119s 119ms/step - loss: 0.3790 - acc: 0.8566 - val_loss: 0.4052 - val_acc: 0.8499\n",
      "Epoch 65/100\n",
      "1000/1000 [==============================] - 119s 119ms/step - loss: 0.3732 - acc: 0.8574 - val_loss: 0.4064 - val_acc: 0.8487\n",
      "Epoch 66/100\n",
      "1000/1000 [==============================] - 118s 118ms/step - loss: 0.3672 - acc: 0.8601 - val_loss: 0.3958 - val_acc: 0.8564\n",
      "Epoch 67/100\n",
      "1000/1000 [==============================] - 118s 118ms/step - loss: 0.3673 - acc: 0.8576 - val_loss: 0.4210 - val_acc: 0.8467\n",
      "Epoch 68/100\n",
      "1000/1000 [==============================] - 119s 119ms/step - loss: 0.3730 - acc: 0.8591 - val_loss: 0.3975 - val_acc: 0.8535\n",
      "Epoch 69/100\n",
      "1000/1000 [==============================] - 119s 119ms/step - loss: 0.3697 - acc: 0.8587 - val_loss: 0.3989 - val_acc: 0.8507\n",
      "Epoch 70/100\n",
      "1000/1000 [==============================] - 119s 119ms/step - loss: 0.3657 - acc: 0.8603 - val_loss: 0.4063 - val_acc: 0.8521\n",
      "Epoch 71/100\n",
      "1000/1000 [==============================] - 118s 118ms/step - loss: 0.3635 - acc: 0.8621 - val_loss: 0.3963 - val_acc: 0.8575\n",
      "Epoch 72/100\n",
      "1000/1000 [==============================] - 119s 119ms/step - loss: 0.3668 - acc: 0.8597 - val_loss: 0.4028 - val_acc: 0.8497\n",
      "Epoch 73/100\n",
      "1000/1000 [==============================] - 118s 118ms/step - loss: 0.3624 - acc: 0.8593 - val_loss: 0.3950 - val_acc: 0.8550\n",
      "Epoch 74/100\n",
      "1000/1000 [==============================] - 119s 119ms/step - loss: 0.3588 - acc: 0.8630 - val_loss: 0.4277 - val_acc: 0.8427\n",
      "Epoch 75/100\n",
      "1000/1000 [==============================] - 119s 119ms/step - loss: 0.3564 - acc: 0.8630 - val_loss: 0.3968 - val_acc: 0.8537\n",
      "Epoch 76/100\n",
      "1000/1000 [==============================] - 118s 118ms/step - loss: 0.3579 - acc: 0.8646 - val_loss: 0.3908 - val_acc: 0.8606\n",
      "Epoch 77/100\n",
      "1000/1000 [==============================] - 118s 118ms/step - loss: 0.3645 - acc: 0.8606 - val_loss: 0.3954 - val_acc: 0.8505\n",
      "Epoch 78/100\n",
      "1000/1000 [==============================] - 118s 118ms/step - loss: 0.3604 - acc: 0.8629 - val_loss: 0.3944 - val_acc: 0.8544\n",
      "Epoch 79/100\n",
      "1000/1000 [==============================] - 118s 118ms/step - loss: 0.3479 - acc: 0.8677 - val_loss: 0.4062 - val_acc: 0.8513\n",
      "Epoch 80/100\n",
      "1000/1000 [==============================] - 119s 119ms/step - loss: 0.3562 - acc: 0.8652 - val_loss: 0.3966 - val_acc: 0.8507\n",
      "Epoch 81/100\n",
      "1000/1000 [==============================] - 118s 118ms/step - loss: 0.3458 - acc: 0.8663 - val_loss: 0.3871 - val_acc: 0.8517\n",
      "Epoch 82/100\n",
      "1000/1000 [==============================] - 119s 119ms/step - loss: 0.3534 - acc: 0.8646 - val_loss: 0.3956 - val_acc: 0.8527\n",
      "Epoch 83/100\n",
      "1000/1000 [==============================] - 118s 118ms/step - loss: 0.3435 - acc: 0.8688 - val_loss: 0.4026 - val_acc: 0.8553\n",
      "Epoch 84/100\n",
      "1000/1000 [==============================] - 119s 119ms/step - loss: 0.3513 - acc: 0.8657 - val_loss: 0.3854 - val_acc: 0.8599\n",
      "Epoch 85/100\n",
      "1000/1000 [==============================] - 119s 119ms/step - loss: 0.3448 - acc: 0.8681 - val_loss: 0.3896 - val_acc: 0.8557\n",
      "Epoch 86/100\n",
      "1000/1000 [==============================] - 118s 118ms/step - loss: 0.3494 - acc: 0.8667 - val_loss: 0.4027 - val_acc: 0.8580\n",
      "Epoch 87/100\n",
      "1000/1000 [==============================] - 118s 118ms/step - loss: 0.3415 - acc: 0.8707 - val_loss: 0.4022 - val_acc: 0.8505\n",
      "Epoch 88/100\n",
      "1000/1000 [==============================] - 119s 119ms/step - loss: 0.3482 - acc: 0.8658 - val_loss: 0.4011 - val_acc: 0.8522\n",
      "Epoch 89/100\n",
      "1000/1000 [==============================] - 121s 121ms/step - loss: 0.3419 - acc: 0.8686 - val_loss: 0.3842 - val_acc: 0.8579s \n",
      "Epoch 90/100\n",
      "1000/1000 [==============================] - 120s 120ms/step - loss: 0.3430 - acc: 0.8683 - val_loss: 0.3962 - val_acc: 0.8561\n",
      "Epoch 91/100\n",
      "1000/1000 [==============================] - 119s 119ms/step - loss: 0.3443 - acc: 0.8689 - val_loss: 0.3879 - val_acc: 0.8568\n",
      "Epoch 92/100\n",
      "1000/1000 [==============================] - 119s 119ms/step - loss: 0.3365 - acc: 0.8723 - val_loss: 0.3863 - val_acc: 0.8595\n",
      "Epoch 93/100\n",
      "1000/1000 [==============================] - 119s 119ms/step - loss: 0.3403 - acc: 0.8704 - val_loss: 0.4220 - val_acc: 0.8487\n",
      "Epoch 94/100\n",
      "1000/1000 [==============================] - 119s 119ms/step - loss: 0.3416 - acc: 0.8692 - val_loss: 0.3802 - val_acc: 0.8595\n",
      "Epoch 95/100\n",
      "1000/1000 [==============================] - 119s 119ms/step - loss: 0.3379 - acc: 0.8717 - val_loss: 0.3887 - val_acc: 0.8600\n",
      "Epoch 96/100\n",
      "1000/1000 [==============================] - 119s 119ms/step - loss: 0.3356 - acc: 0.8735 - val_loss: 0.4075 - val_acc: 0.8541\n",
      "Epoch 97/100\n",
      "1000/1000 [==============================] - 119s 119ms/step - loss: 0.3336 - acc: 0.8731 - val_loss: 0.4004 - val_acc: 0.8526\n",
      "Epoch 98/100\n",
      "1000/1000 [==============================] - 119s 119ms/step - loss: 0.3353 - acc: 0.8723 - val_loss: 0.4073 - val_acc: 0.8510- acc: 0\n",
      "Epoch 99/100\n",
      "1000/1000 [==============================] - 119s 119ms/step - loss: 0.3392 - acc: 0.8723 - val_loss: 0.3998 - val_acc: 0.8569\n",
      "Epoch 100/100\n",
      "1000/1000 [==============================] - 120s 120ms/step - loss: 0.3394 - acc: 0.8686 - val_loss: 0.3793 - val_acc: 0.8601\n"
     ]
    },
    {
     "data": {
      "text/plain": [
       "<keras.callbacks.History at 0x193a950e748>"
      ]
     },
     "execution_count": 6,
     "metadata": {},
     "output_type": "execute_result"
    }
   ],
   "source": [
    "\n",
    "model.compile(optimizer='sgd', loss='categorical_crossentropy', metrics=['accuracy'])\n",
    "model.fit_generator(train_generator,\n",
    "                    verbose=1, \n",
    "                    steps_per_epoch=1000, \n",
    "                    epochs=100, \n",
    "                    validation_data=validation_generator,\n",
    "                   validation_steps=300,\n",
    "                   class_weight=class_weights)"
   ]
  },
  {
   "cell_type": "code",
   "execution_count": 15,
   "metadata": {},
   "outputs": [
    {
     "name": "stdout",
     "output_type": "stream",
     "text": [
      "Confusion Matrix\n",
      "[[4148   77    4    1    0    1   10]\n",
      " [ 126 1328  128    6    0    3    5]\n",
      " [  34  174  805  116    5    5    0]\n",
      " [  15   12  125  331   48   37    0]\n",
      " [   5    2   11   98   67  105    0]\n",
      " [   7    1    5   22   23  212   34]\n",
      " [  40    7    1    0    0    0  340]]\n",
      "Classification Report\n",
      "              precision    recall  f1-score   support\n",
      "\n",
      "    1_colony       0.95      0.98      0.96      4241\n",
      "  2_colonies       0.83      0.83      0.83      1596\n",
      "  3_colonies       0.75      0.71      0.73      1139\n",
      "  4_colonies       0.58      0.58      0.58       568\n",
      "  5_colonies       0.47      0.23      0.31       288\n",
      "  6_colonies       0.58      0.70      0.64       304\n",
      "     outlier       0.87      0.88      0.88       388\n",
      "\n",
      "    accuracy                           0.85      8524\n",
      "   macro avg       0.72      0.70      0.70      8524\n",
      "weighted avg       0.84      0.85      0.84      8524\n",
      "\n"
     ]
    }
   ],
   "source": [
    "# https://gist.github.com/RyanAkilos/3808c17f79e77c4117de35aa68447045\n",
    "\n",
    "Y_pred = model.predict_generator(validation_generator, num_test_samples // batch_size+1)\n",
    "y_pred = np.argmax(Y_pred, axis=1)\n",
    "print('Confusion Matrix')\n",
    "print(confusion_matrix(validation_generator.classes, y_pred))\n",
    "print('Classification Report')\n",
    "target_names = ['1_colony', '2_colonies', '3_colonies', '4_colonies', '5_colonies', '6_colonies', 'outlier']\n",
    "print(classification_report(validation_generator.classes, y_pred, target_names=target_names))\n"
   ]
  },
  {
   "cell_type": "markdown",
   "metadata": {},
   "source": [
    "## Balance Classes"
   ]
  },
  {
   "cell_type": "code",
   "execution_count": 20,
   "metadata": {},
   "outputs": [
    {
     "name": "stdout",
     "output_type": "stream",
     "text": [
      "Epoch 1/1\n",
      "1000/1000 [==============================] - 122s 122ms/step - loss: 1.1465 - acc: 0.5805 - val_loss: 0.8989 - val_acc: 0.6723\n"
     ]
    },
    {
     "data": {
      "text/plain": [
       "<keras.callbacks.History at 0x1957d341a20>"
      ]
     },
     "execution_count": 20,
     "metadata": {},
     "output_type": "execute_result"
    }
   ],
   "source": [
    "model.compile(optimizer='sgd', loss='categorical_crossentropy', metrics=['accuracy'])\n",
    "model.fit_generator(train_generator,\n",
    "                    verbose=1, \n",
    "                    steps_per_epoch=1000, \n",
    "                    epochs=1, \n",
    "                    validation_data=validation_generator,\n",
    "                   validation_steps=300,\n",
    "                   class_weight=class_weights)"
   ]
  },
  {
   "cell_type": "code",
   "execution_count": 21,
   "metadata": {},
   "outputs": [
    {
     "name": "stdout",
     "output_type": "stream",
     "text": [
      "Confusion Matrix\n",
      "[[3296  568  327    5    0    2   43]\n",
      " [ 318  473  702   49    1   14   39]\n",
      " [  96  146  620  127    5  112   33]\n",
      " [ 242   33   38   10    0   24  221]\n",
      " [ 273   10    1    0    0    0    4]\n",
      " [ 286   16    1    0    0    0    1]\n",
      " [ 356   28    1    0    0    0    3]]\n",
      "Classification Report\n",
      "              precision    recall  f1-score   support\n",
      "\n",
      "    1_colony       0.68      0.78      0.72      4241\n",
      "  2_colonies       0.37      0.30      0.33      1596\n",
      "  3_colonies       0.37      0.54      0.44      1139\n",
      "  4_colonies       0.05      0.02      0.03       568\n",
      "  5_colonies       0.00      0.00      0.00       288\n",
      "  6_colonies       0.00      0.00      0.00       304\n",
      "     outlier       0.01      0.01      0.01       388\n",
      "\n",
      "    accuracy                           0.52      8524\n",
      "   macro avg       0.21      0.23      0.22      8524\n",
      "weighted avg       0.46      0.52      0.48      8524\n",
      "\n"
     ]
    }
   ],
   "source": [
    "Y_pred = model.predict_generator(validation_generator, num_test_samples // batch_size+1)\n",
    "y_pred = np.argmax(Y_pred, axis=1)\n",
    "print('Confusion Matrix')\n",
    "print(confusion_matrix(validation_generator.classes, y_pred))\n",
    "print('Classification Report')\n",
    "target_names = ['1_colony', '2_colonies', '3_colonies', '4_colonies', '5_colonies', '6_colonies', 'outlier']\n",
    "print(classification_report(validation_generator.classes, y_pred, target_names=target_names))\n"
   ]
  },
  {
   "cell_type": "markdown",
   "metadata": {},
   "source": [
    "## Imbalanced Classes"
   ]
  },
  {
   "cell_type": "code",
   "execution_count": 22,
   "metadata": {},
   "outputs": [
    {
     "name": "stdout",
     "output_type": "stream",
     "text": [
      "Epoch 1/1\n",
      "1000/1000 [==============================] - 120s 120ms/step - loss: 0.9240 - acc: 0.6460 - val_loss: 0.8217 - val_acc: 0.7030\n"
     ]
    },
    {
     "data": {
      "text/plain": [
       "<keras.callbacks.History at 0x193ba8cf0b8>"
      ]
     },
     "execution_count": 22,
     "metadata": {},
     "output_type": "execute_result"
    }
   ],
   "source": [
    "model.compile(optimizer='sgd', loss='categorical_crossentropy', metrics=['accuracy'])\n",
    "model.fit_generator(train_generator,\n",
    "                    verbose=1, \n",
    "                    steps_per_epoch=1000, \n",
    "                    epochs=1, \n",
    "                    validation_data=validation_generator,\n",
    "                   validation_steps=300,\n",
    "                   class_weight=class_weights)"
   ]
  },
  {
   "cell_type": "code",
   "execution_count": 23,
   "metadata": {},
   "outputs": [
    {
     "name": "stdout",
     "output_type": "stream",
     "text": [
      "Confusion Matrix\n",
      "[[2740 1107  328   27    0   14   25]\n",
      " [ 221  446  550   94   13  257   15]\n",
      " [ 760   41   21    3    2   45  267]\n",
      " [ 552   15    0    0    0    0    1]\n",
      " [ 277   10    0    0    0    0    1]\n",
      " [ 290   13    0    0    0    0    1]\n",
      " [ 378   10    0    0    0    0    0]]\n",
      "Classification Report\n",
      "              precision    recall  f1-score   support\n",
      "\n",
      "    1_colony       0.53      0.65      0.58      4241\n",
      "  2_colonies       0.27      0.28      0.28      1596\n",
      "  3_colonies       0.02      0.02      0.02      1139\n",
      "  4_colonies       0.00      0.00      0.00       568\n",
      "  5_colonies       0.00      0.00      0.00       288\n",
      "  6_colonies       0.00      0.00      0.00       304\n",
      "     outlier       0.00      0.00      0.00       388\n",
      "\n",
      "    accuracy                           0.38      8524\n",
      "   macro avg       0.12      0.13      0.13      8524\n",
      "weighted avg       0.32      0.38      0.34      8524\n",
      "\n"
     ]
    }
   ],
   "source": [
    "Y_pred = model.predict_generator(validation_generator, num_test_samples // batch_size+1)\n",
    "y_pred = np.argmax(Y_pred, axis=1)\n",
    "print('Confusion Matrix')\n",
    "print(confusion_matrix(validation_generator.classes, y_pred))\n",
    "print('Classification Report')\n",
    "target_names = ['1_colony', '2_colonies', '3_colonies', '4_colonies', '5_colonies', '6_colonies', 'outlier']\n",
    "print(classification_report(validation_generator.classes, y_pred, target_names=target_names))\n"
   ]
  },
  {
   "cell_type": "code",
   "execution_count": null,
   "metadata": {},
   "outputs": [],
   "source": []
  }
 ],
 "metadata": {
  "kernelspec": {
   "display_name": "Python (tf-GPU)",
   "language": "python",
   "name": "tensorflow_env"
  },
  "language_info": {
   "codemirror_mode": {
    "name": "ipython",
    "version": 3
   },
   "file_extension": ".py",
   "mimetype": "text/x-python",
   "name": "python",
   "nbconvert_exporter": "python",
   "pygments_lexer": "ipython3",
   "version": "3.7.3"
  }
 },
 "nbformat": 4,
 "nbformat_minor": 2
}
