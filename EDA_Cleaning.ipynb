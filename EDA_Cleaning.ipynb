{
 "cells": [
  {
   "cell_type": "code",
   "execution_count": 1,
   "metadata": {},
   "outputs": [],
   "source": [
    "import warnings\n",
    "warnings.filterwarnings('ignore')\n",
    "\n",
    "import glob\n",
    "import imageio\n",
    "import json\n",
    "import numpy as np\n",
    "import pandas as pd\n",
    "import os\n",
    "import marsican_functions as msn\n",
    "import scipy\n",
    "import shutil\n",
    "import tensorflow as tf\n",
    "import zipfile\n",
    "\n",
    "from PIL import Image"
   ]
  },
  {
   "cell_type": "markdown",
   "metadata": {},
   "source": [
    "## Read in data"
   ]
  },
  {
   "cell_type": "code",
   "execution_count": 2,
   "metadata": {},
   "outputs": [],
   "source": [
    "with open(\"F:\\Colonies_Data\\MicrobIA_Dataset_only_counted_processed_anonimyzed_part9\\metadata.json\", 'r') as f:\n",
    "    colony_pic_metadata_json = f.read()\n",
    "    colony_pic_metadata = json.loads(colony_pic_metadata_json)"
   ]
  },
  {
   "cell_type": "code",
   "execution_count": 76,
   "metadata": {},
   "outputs": [],
   "source": [
    "img_paths = msn.extract_paths_with_colonies(colony_pic_metadata['images_list'])"
   ]
  },
  {
   "cell_type": "code",
   "execution_count": 77,
   "metadata": {},
   "outputs": [
    {
     "data": {
      "text/plain": [
       "126"
      ]
     },
     "execution_count": 77,
     "metadata": {},
     "output_type": "execute_result"
    }
   ],
   "source": [
    "len(img_paths)"
   ]
  },
  {
   "cell_type": "markdown",
   "metadata": {},
   "source": [
    "## Extract zipfiles"
   ]
  },
  {
   "cell_type": "code",
   "execution_count": 25,
   "metadata": {},
   "outputs": [
    {
     "data": {
      "text/plain": [
       "['F:\\\\Colonies_Data\\\\MicrobIA_Dataset_only_counted_processed_anonimyzed_part18.zip',\n",
       " 'F:\\\\Colonies_Data\\\\MicrobIA_Dataset_only_counted_processed_anonimyzed_part17.zip',\n",
       " 'F:\\\\Colonies_Data\\\\MicrobIA_Dataset_only_counted_processed_anonimyzed_part15.zip',\n",
       " 'F:\\\\Colonies_Data\\\\MicrobIA_Dataset_only_counted_processed_anonimyzed_part16.zip']"
      ]
     },
     "execution_count": 25,
     "metadata": {},
     "output_type": "execute_result"
    }
   ],
   "source": [
    "zip_files = glob.glob(\"F:\\Colonies_Data\\*.zip\")\n",
    "zip_files"
   ]
  },
  {
   "cell_type": "code",
   "execution_count": 26,
   "metadata": {},
   "outputs": [
    {
     "name": "stdout",
     "output_type": "stream",
     "text": [
      "Extracting F:\\Colonies_Data\\MicrobIA_Dataset_only_counted_processed_anonimyzed_part18.zip.\n",
      "Removed F:\\Colonies_Data\\MicrobIA_Dataset_only_counted_processed_anonimyzed_part18.zip.\n",
      "Extracting F:\\Colonies_Data\\MicrobIA_Dataset_only_counted_processed_anonimyzed_part17.zip.\n",
      "Removed F:\\Colonies_Data\\MicrobIA_Dataset_only_counted_processed_anonimyzed_part17.zip.\n",
      "Extracting F:\\Colonies_Data\\MicrobIA_Dataset_only_counted_processed_anonimyzed_part15.zip.\n",
      "Removed F:\\Colonies_Data\\MicrobIA_Dataset_only_counted_processed_anonimyzed_part15.zip.\n",
      "Extracting F:\\Colonies_Data\\MicrobIA_Dataset_only_counted_processed_anonimyzed_part16.zip.\n",
      "Removed F:\\Colonies_Data\\MicrobIA_Dataset_only_counted_processed_anonimyzed_part16.zip.\n"
     ]
    }
   ],
   "source": [
    "for file_loc in zip_files:\n",
    "    with zipfile.ZipFile(file_loc, 'r') as zf:\n",
    "        print(f\"Extracting {file_loc}.\")\n",
    "        zf.extractall(path=\"F:\\Colonies_Data\\\\\")\n",
    "    os.remove(file_loc)\n",
    "    print(f\"Removed {file_loc}.\")"
   ]
  },
  {
   "cell_type": "markdown",
   "metadata": {},
   "source": [
    "## Finding usable images (Windows)"
   ]
  },
  {
   "cell_type": "code",
   "execution_count": 4,
   "metadata": {},
   "outputs": [
    {
     "data": {
      "text/plain": [
       "['F:\\\\Colonies_Data\\\\MicrobIA_Dataset_only_counted_processed_anonimyzed_part9\\\\metadata.json',\n",
       " 'F:\\\\Colonies_Data\\\\MicrobIA_Dataset_only_counted_processed_anonimyzed_part3\\\\metadata.json',\n",
       " 'F:\\\\Colonies_Data\\\\MicrobIA_Dataset_only_counted_processed_anonimyzed_part4\\\\metadata.json',\n",
       " 'F:\\\\Colonies_Data\\\\MicrobIA_Dataset_only_counted_processed_anonimyzed_part1\\\\metadata.json',\n",
       " 'F:\\\\Colonies_Data\\\\MicrobIA_Dataset_only_counted_processed_anonimyzed_part6\\\\metadata.json',\n",
       " 'F:\\\\Colonies_Data\\\\MicrobIA_Dataset_only_counted_processed_anonimyzed_part5\\\\metadata.json',\n",
       " 'F:\\\\Colonies_Data\\\\MicrobIA_Dataset_only_counted_processed_anonimyzed_part2\\\\metadata.json',\n",
       " 'F:\\\\Colonies_Data\\\\MicrobIA_Dataset_only_counted_processed_anonimyzed_part7\\\\metadata.json',\n",
       " 'F:\\\\Colonies_Data\\\\MicrobIA_Dataset_only_counted_processed_anonimyzed_part12\\\\metadata.json',\n",
       " 'F:\\\\Colonies_Data\\\\MicrobIA_Dataset_only_counted_processed_anonimyzed_part8\\\\metadata.json',\n",
       " 'F:\\\\Colonies_Data\\\\MicrobIA_Dataset_only_counted_processed_anonimyzed_part11\\\\metadata.json',\n",
       " 'F:\\\\Colonies_Data\\\\MicrobIA_Dataset_only_counted_processed_anonimyzed_part10\\\\metadata.json',\n",
       " 'F:\\\\Colonies_Data\\\\MicrobIA_Dataset_only_counted_processed_anonimyzed_part13\\\\metadata.json',\n",
       " 'F:\\\\Colonies_Data\\\\MicrobIA_Dataset_only_counted_processed_anonimyzed_part14\\\\metadata.json',\n",
       " 'F:\\\\Colonies_Data\\\\MicrobIA_Dataset_only_counted_processed_anonimyzed_part20\\\\metadata.json',\n",
       " 'F:\\\\Colonies_Data\\\\MicrobIA_Dataset_only_counted_processed_anonimyzed_part19\\\\metadata.json',\n",
       " 'F:\\\\Colonies_Data\\\\MicrobIA_Dataset_only_counted_processed_anonimyzed_part18\\\\metadata.json',\n",
       " 'F:\\\\Colonies_Data\\\\MicrobIA_Dataset_only_counted_processed_anonimyzed_part17\\\\metadata.json',\n",
       " 'F:\\\\Colonies_Data\\\\MicrobIA_Dataset_only_counted_processed_anonimyzed_part15\\\\metadata.json',\n",
       " 'F:\\\\Colonies_Data\\\\MicrobIA_Dataset_only_counted_processed_anonimyzed_part16\\\\metadata.json']"
      ]
     },
     "execution_count": 4,
     "metadata": {},
     "output_type": "execute_result"
    }
   ],
   "source": [
    "plate_metadata = glob.glob('F:\\Colonies_Data\\*\\metadata.json')\n",
    "plate_metadata"
   ]
  },
  {
   "cell_type": "code",
   "execution_count": 5,
   "metadata": {},
   "outputs": [],
   "source": [
    "all_img_paths = list()\n",
    "for metadata_loc in plate_metadata:\n",
    "    absolute_path = metadata_loc.split(\"\\\\metadata.json\")[0]\n",
    "    with open(metadata_loc, 'r') as f:\n",
    "        colony_pic_metadata_json = f.read()\n",
    "        colony_pic_metadata = json.loads(colony_pic_metadata_json)\n",
    "    img_paths = msn.extract_paths_with_colonies(colony_pic_metadata['images_list'], max_colonies=99 )\n",
    "    full_img_paths = [(path[0], absolute_path + '/' + path[1]) for path in img_paths]\n",
    "    all_img_paths.append(full_img_paths)\n",
    "all_img_paths = msn.flatten(all_img_paths)"
   ]
  },
  {
   "cell_type": "code",
   "execution_count": 6,
   "metadata": {},
   "outputs": [
    {
     "data": {
      "text/plain": [
       "1204"
      ]
     },
     "execution_count": 6,
     "metadata": {},
     "output_type": "execute_result"
    }
   ],
   "source": [
    "len(all_img_paths)"
   ]
  },
  {
   "cell_type": "code",
   "execution_count": 7,
   "metadata": {},
   "outputs": [
    {
     "data": {
      "text/plain": [
       "[(1,\n",
       "  'F:\\\\Colonies_Data\\\\MicrobIA_Dataset_only_counted_processed_anonimyzed_part9/F/T4h_inf/IMG_Niguarda1_127_121_F6_T543.png'),\n",
       " (2,\n",
       "  'F:\\\\Colonies_Data\\\\MicrobIA_Dataset_only_counted_processed_anonimyzed_part9/S/T4h_inf/IMG_Niguarda1_1352_710_S54_T962.png'),\n",
       " (6,\n",
       "  'F:\\\\Colonies_Data\\\\MicrobIA_Dataset_only_counted_processed_anonimyzed_part9/F/T4h_inf/IMG_Niguarda1_1421_610_F6_T541.png')]"
      ]
     },
     "execution_count": 7,
     "metadata": {},
     "output_type": "execute_result"
    }
   ],
   "source": [
    "all_img_paths[0:3]"
   ]
  },
  {
   "cell_type": "markdown",
   "metadata": {},
   "source": [
    "## Image Processing"
   ]
  },
  {
   "cell_type": "code",
   "execution_count": 8,
   "metadata": {},
   "outputs": [],
   "source": [
    "Lt100_colonies_images = [t[1] for t in all_img_paths]"
   ]
  },
  {
   "cell_type": "code",
   "execution_count": 16,
   "metadata": {},
   "outputs": [],
   "source": [
    "ex_img_path = Lt100_colonies_images[7]\n",
    "ex_img = imageio.imread(ex_img_path)"
   ]
  },
  {
   "cell_type": "code",
   "execution_count": 17,
   "metadata": {},
   "outputs": [
    {
     "data": {
      "image/png": "[encoded data removed]",
      "text/plain": [
       "<PIL.Image.Image image mode=L size=200x200 at 0x1E28CB46860>"
      ]
     },
     "execution_count": 17,
     "metadata": {},
     "output_type": "execute_result"
    }
   ],
   "source": [
    "Image.fromarray(ex_img).resize((200, 200)).convert('L')"
   ]
  },
  {
   "cell_type": "code",
   "execution_count": 15,
   "metadata": {},
   "outputs": [
    {
     "data": {
      "text/plain": [
       "(24,\n",
       " 'F:\\\\Colonies_Data\\\\MicrobIA_Dataset_only_counted_processed_anonimyzed_part9/F/T4h_inf/IMG_Niguarda1_1977_767_F6_T967.png')"
      ]
     },
     "execution_count": 15,
     "metadata": {},
     "output_type": "execute_result"
    }
   ],
   "source": [
    "all_img_paths[7]"
   ]
  },
  {
   "cell_type": "code",
   "execution_count": null,
   "metadata": {},
   "outputs": [],
   "source": []
  }
 ],
 "metadata": {
  "kernelspec": {
   "display_name": "Python (tf-GPU)",
   "language": "python",
   "name": "tensorflow_env"
  },
  "language_info": {
   "codemirror_mode": {
    "name": "ipython",
    "version": 3
   },
   "file_extension": ".py",
   "mimetype": "text/x-python",
   "name": "python",
   "nbconvert_exporter": "python",
   "pygments_lexer": "ipython3",
   "version": "3.7.3"
  }
 },
 "nbformat": 4,
 "nbformat_minor": 2
}
