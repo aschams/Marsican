{
 "cells": [
  {
   "cell_type": "markdown",
   "metadata": {},
   "source": [
    "# Setup\n",
    "## Import Necessary Modules"
   ]
  },
  {
   "cell_type": "code",
   "execution_count": 14,
   "metadata": {},
   "outputs": [],
   "source": [
    "import glob\n",
    "import json\n",
    "import os\n",
    "import shutil\n",
    "import sys\n",
    "import warnings\n",
    "warnings.filterwarnings('ignore')\n",
    "\n",
    "import cv2\n",
    "import numpy as np\n",
    "import keras\n",
    "from keras_preprocessing.image import ImageDataGenerator\n",
    "from keras.models import Sequential\n",
    "from keras.layers import Activation, Conv2D, Dense, Dropout, Flatten, MaxPooling2D, BatchNormalization\n",
    "from sklearn.metrics import confusion_matrix, classification_report\n",
    "from sklearn.utils import class_weight\n",
    "import tensorflow as tf\n",
    "\n",
    "sys.path.append( '../src')\n",
    "import counting_functions as mcf\n",
    "import marsican_functions as msn\n",
    "import augment_functions as maf"
   ]
  },
  {
   "cell_type": "markdown",
   "metadata": {},
   "source": [
    "## Set up correct paths/folders"
   ]
  },
  {
   "cell_type": "code",
   "execution_count": 6,
   "metadata": {},
   "outputs": [],
   "source": [
    "if 'darwin' in sys.platform:\n",
    "    segment_json = \"../sample_data/*.json\"\n",
    "    data_directory = 'sample_data/'\n",
    "    full_data_directory = '../' + data_directory + 'labelled_imgs/'"
   ]
  },
  {
   "cell_type": "code",
   "execution_count": 15,
   "metadata": {},
   "outputs": [],
   "source": [
    "msn_wd = os.getcwd()\n",
    "folders_to_make = ['0_colonies',\n",
    "                   '1_colony', \n",
    "                   '2_colonies', \n",
    "                   '3_colonies',\n",
    "                   '4_colonies',\n",
    "                   '5_colonies',\n",
    "                   '6_colonies',\n",
    "                   'outlier']\n",
    "os.chdir(full_data_directory)\n",
    "for folder_name in folders_to_make:\n",
    "    os.mkdir(folder_name)\n",
    "\n",
    "os.chdir(msn_wd)"
   ]
  },
  {
   "cell_type": "code",
   "execution_count": 20,
   "metadata": {},
   "outputs": [],
   "source": [
    "data_tags ={\n",
    "    '1 Colony': '1_colony/',\n",
    "    '2 Colonies': '2_colonies/',\n",
    "    '3 Colonies': '3_colonies/',\n",
    "    '4 Colonies': '4_colonies/',\n",
    "    '5 Colonies': '5_colonies/',\n",
    "    '6 Colonies': '6_colonies/',\n",
    "    'Confluential': 'confluential/',\n",
    "}"
   ]
  },
  {
   "cell_type": "markdown",
   "metadata": {},
   "source": [
    "## Getting Blood agar Segment data into the correct folders"
   ]
  },
  {
   "cell_type": "markdown",
   "metadata": {},
   "source": [
    "### Moving Images to correct folders"
   ]
  },
  {
   "cell_type": "code",
   "execution_count": 21,
   "metadata": {},
   "outputs": [],
   "source": [
    "msn_wd = os.getcwd()\n",
    "segment_metadata_loc = glob.glob(segment_json)"
   ]
  },
  {
   "cell_type": "code",
   "execution_count": 24,
   "metadata": {},
   "outputs": [],
   "source": [
    "with open(segment_metadata_loc[0], 'r') as f:\n",
    "    segment_metadata_json = f.read()\n",
    "    segment_pic_metadata = json.loads(segment_metadata_json)"
   ]
  },
  {
   "cell_type": "code",
   "execution_count": 28,
   "metadata": {},
   "outputs": [],
   "source": [
    "for segment_name, segment_info in segment_pic_metadata.items():\n",
    "    segment_label = msn.deep_find_dict(segment_info, 'text')\n",
    "    segment_rel_path = msn.deep_find_dict(segment_info, 'Segment Relative Path')\n",
    "    segment_name = segment_rel_path.split('/')[1]\n",
    "    try:\n",
    "        folder_transferred_to = data_tags[segment_label]\n",
    "        shutil.copyfile('../sample_data/blood_agar_imgs/' + segment_name,\n",
    "                        '../sample_data/labelled_imgs/' + folder_transferred_to + segment_name)\n",
    "    except:\n",
    "        continue"
   ]
  },
  {
   "cell_type": "markdown",
   "metadata": {},
   "source": [
    "### Checking our images are there"
   ]
  },
  {
   "cell_type": "code",
   "execution_count": 7,
   "metadata": {},
   "outputs": [
    {
     "name": "stdout",
     "output_type": "stream",
     "text": [
      "Found 349 images belonging to 8 classes.\n"
     ]
    },
    {
     "data": {
      "text/plain": [
       "<keras_preprocessing.image.directory_iterator.DirectoryIterator at 0x128392320>"
      ]
     },
     "execution_count": 7,
     "metadata": {},
     "output_type": "execute_result"
    }
   ],
   "source": [
    "datagen = ImageDataGenerator(rotation_range=30, \n",
    "                             width_shift_range=0.2,\n",
    "                             height_shift_range=0.2,\n",
    "                             horizontal_flip=True,\n",
    "                             vertical_flip=True\n",
    "                            )\n",
    "datagen.flow_from_directory(full_data_directory, target_size=(128, 128), color_mode=\"grayscale\")"
   ]
  },
  {
   "cell_type": "markdown",
   "metadata": {},
   "source": [
    "Keras has found our data"
   ]
  },
  {
   "cell_type": "markdown",
   "metadata": {},
   "source": [
    "## Augmenting clear agar and 0-colony data"
   ]
  },
  {
   "cell_type": "code",
   "execution_count": 2,
   "metadata": {},
   "outputs": [],
   "source": [
    "imgs_0_cols = glob.glob('../sample_data/clear_agar_and_zero_colony_imgs/0_colonies/*.jpg')\n",
    "imgs_1_col = glob.glob('../sample_data/clear_agar_and_zero_colony_imgs/1_colony/*.jpg')\n",
    "imgs_2_cols = glob.glob('../sample_data/clear_agar_and_zero_colony_imgs/2_colonies/*.jpg') "
   ]
  },
  {
   "cell_type": "code",
   "execution_count": 3,
   "metadata": {},
   "outputs": [],
   "source": [
    "for ex in imgs_0_cols:\n",
    "    maf.augment_img_both(ex, \"../sample_data/labelled_imgs/0_colonies\", \n",
    "                         k=[0, 1, 2, 3], periods=3, slashes=4)\n",
    "    \n",
    "for ex in imgs_1_col:\n",
    "    maf.augment_img_both(ex, \"../sample_data/labelled_imgs/1_colony\",\n",
    "                         k=[0, 1, 2, 3], periods=3, slashes=4)\n",
    "    \n",
    "for ex in imgs_2_cols:\n",
    "    maf.augment_img_both(ex, \"../sample_data/labelled_imgs/2_colonies\",\n",
    "                         k=[0, 1, 2, 3], periods=3, slashes=4)"
   ]
  },
  {
   "cell_type": "code",
   "execution_count": 8,
   "metadata": {},
   "outputs": [
    {
     "name": "stdout",
     "output_type": "stream",
     "text": [
      "Found 349 images belonging to 8 classes.\n"
     ]
    },
    {
     "data": {
      "text/plain": [
       "<keras_preprocessing.image.directory_iterator.DirectoryIterator at 0x12838b668>"
      ]
     },
     "execution_count": 8,
     "metadata": {},
     "output_type": "execute_result"
    }
   ],
   "source": [
    "datagen.flow_from_directory(full_data_directory, target_size=(128, 128), color_mode=\"grayscale\")"
   ]
  },
  {
   "cell_type": "markdown",
   "metadata": {},
   "source": [
    "Once again, our images are found."
   ]
  },
  {
   "cell_type": "markdown",
   "metadata": {},
   "source": [
    "## Splitting into train-validation sets."
   ]
  },
  {
   "cell_type": "markdown",
   "metadata": {},
   "source": [
    "### Make the necessary directories"
   ]
  },
  {
   "cell_type": "code",
   "execution_count": 9,
   "metadata": {},
   "outputs": [],
   "source": [
    "msn_wd = os.getcwd()\n",
    "os.chdir('../sample_data/labelled_imgs')\n",
    "os.mkdir('stratified_data')\n",
    "os.chdir(\"stratified_data\")\n",
    "folders_to_make = ['0_colonies',\n",
    "                   '1_colony', \n",
    "                   '2_colonies', \n",
    "                   '3_colonies',\n",
    "                   '4_colonies',\n",
    "                   '5_colonies',\n",
    "                   '6_colonies',\n",
    "                   'outlier']\n",
    "\n",
    "os.mkdir('training')\n",
    "os.mkdir('validation')\n",
    "\n",
    "msn.make_folders(os.getcwd() + '/training', folders_to_make)\n",
    "msn.make_folders(os.getcwd() + '/validation', folders_to_make)\n",
    "\n",
    "os.chdir(msn_wd)"
   ]
  },
  {
   "cell_type": "markdown",
   "metadata": {},
   "source": [
    "### Pool and split the data into the train-validation sets"
   ]
  },
  {
   "cell_type": "code",
   "execution_count": 10,
   "metadata": {},
   "outputs": [],
   "source": [
    "msn_wd = os.getcwd()\n",
    "os.chdir('../sample_data/labelled_imgs')\n",
    "folders_to_make = ['0_colonies',\n",
    "                   '1_colony', \n",
    "                   '2_colonies', \n",
    "                   '3_colonies',\n",
    "                   '4_colonies',\n",
    "                   '5_colonies',\n",
    "                   '6_colonies',\n",
    "                   'outlier']\n",
    "msn.train_validation_imgsplit(os.getcwd(),\n",
    "                              folder_names=folders_to_make,\n",
    "                              train_size=0.7,\n",
    "                              training_dir='stratified_data/training/',\n",
    "                              val_dir='stratified_data/validation/')\n",
    "\n",
    "os.chdir(msn_wd)"
   ]
  },
  {
   "cell_type": "markdown",
   "metadata": {},
   "source": [
    "# Training the Model\n",
    "\n",
    "Keras makes it very easy to set up a sequential neural network. The neural network will be set up according to [this paper](https://www.semanticscholar.org/paper/Bacterial-colony-counting-with-Convolutional-Neural-Ferrari-Lombardi/646cc8ef9bc7b41fb6297c45a092b5628d5da5d0), except using batch normalization instead of local response normalization."
   ]
  },
  {
   "cell_type": "code",
   "execution_count": 5,
   "metadata": {},
   "outputs": [],
   "source": [
    "datagen = ImageDataGenerator(rotation_range=30, \n",
    "                             width_shift_range=0.2,\n",
    "                             height_shift_range=0.2,\n",
    "                             horizontal_flip=True,\n",
    "                             vertical_flip=True)\n",
    "\n",
    "if 'darwin' in sys.platform:\n",
    "    data_directory='../sample_data/labelled_imgs/'\n",
    "    full_training_directory = data_directory + 'stratified_data/training/'\n",
    "    full_validation_directory = data_directory +'stratified_data/validation/'"
   ]
  },
  {
   "cell_type": "code",
   "execution_count": 30,
   "metadata": {},
   "outputs": [
    {
     "name": "stdout",
     "output_type": "stream",
     "text": [
      "Found 246 images belonging to 8 classes.\n",
      "Found 106 images belonging to 8 classes.\n"
     ]
    }
   ],
   "source": [
    "batch_size = 32\n",
    "train_generator = datagen.flow_from_directory(full_training_directory, \n",
    "                                              target_size=(128, 128), \n",
    "                                              color_mode=\"grayscale\", \n",
    "                                              batch_size=batch_size)\n",
    "validation_generator = datagen.flow_from_directory(full_validation_directory,\n",
    "                                                   target_size=(128, 128), \n",
    "                                                   color_mode='grayscale',\n",
    "                                                   batch_size=batch_size, \n",
    "                                                   shuffle=False)\n",
    "num_classes = len(train_generator.class_indices)\n",
    "NUM_TRAIN_SAMPLES = 246\n",
    "NUM_TEST_SAMPLES = 106\n",
    "\n",
    "class_weights = class_weight.compute_class_weight(\n",
    "           'balanced',\n",
    "            np.unique(train_generator.classes), \n",
    "            train_generator.classes)"
   ]
  },
  {
   "cell_type": "code",
   "execution_count": 18,
   "metadata": {},
   "outputs": [],
   "source": [
    "model = Sequential()\n",
    "model.add(Conv2D(20, (5,5), activation='relu', input_shape=(128,128,1)))\n",
    "model.add(BatchNormalization(momentum=0.9))\n",
    "model.add(MaxPooling2D())\n",
    "model.add(Conv2D(50, (5,5), activation='relu'))\n",
    "model.add(BatchNormalization(momentum=0.9))\n",
    "model.add(MaxPooling2D())\n",
    "model.add(Conv2D(100, (4,4), activation='relu'))\n",
    "model.add(MaxPooling2D())\n",
    "model.add(Conv2D(200, (4,4), activation='relu'))\n",
    "model.add(MaxPooling2D())\n",
    "model.add(Dropout(rate=0.25))\n",
    "model.add(Flatten())\n",
    "model.add(Dense(500, activation='relu')) \n",
    "model.add(Dropout(rate=0.25))\n",
    "model.add(Dense(num_classes))\n",
    "model.add(Activation('softmax'))"
   ]
  },
  {
   "cell_type": "code",
   "execution_count": 19,
   "metadata": {},
   "outputs": [],
   "source": [
    "sgd = keras.optimizers.SGD(lr=0.01,\n",
    "                          momentum=0.9,\n",
    "                          decay=0.0001)"
   ]
  },
  {
   "cell_type": "code",
   "execution_count": 26,
   "metadata": {},
   "outputs": [
    {
     "name": "stdout",
     "output_type": "stream",
     "text": [
      "Epoch 1/5\n",
      "8/8 [==============================] - 74s 9s/step - loss: 0.9811 - acc: 0.5887 - val_loss: 1.1601 - val_acc: 0.4339\n",
      "Epoch 2/5\n",
      "8/8 [==============================] - 75s 9s/step - loss: 0.9811 - acc: 0.6368 - val_loss: 1.2615 - val_acc: 0.4134\n",
      "Epoch 3/5\n",
      "8/8 [==============================] - 74s 9s/step - loss: 0.9583 - acc: 0.5940 - val_loss: 0.8219 - val_acc: 0.6974\n",
      "Epoch 4/5\n",
      "8/8 [==============================] - 74s 9s/step - loss: 1.0259 - acc: 0.5796 - val_loss: 1.0951 - val_acc: 0.6040\n",
      "Epoch 5/5\n",
      "8/8 [==============================] - 74s 9s/step - loss: 1.0562 - acc: 0.5822 - val_loss: 0.7869 - val_acc: 0.6766\n"
     ]
    }
   ],
   "source": [
    "model.compile(optimizer=sgd, loss='categorical_crossentropy',\n",
    "              metrics=['accuracy'])\n",
    "balanced_history = model.fit_generator(train_generator,\n",
    "                                       verbose=1,\n",
    "                                       steps_per_epoch=NUM_TRAIN_SAMPLES // batch_size+1,\n",
    "                                       epochs=5,\n",
    "                                       validation_data=validation_generator,\n",
    "                                       validation_steps=num_test_samples // batch_size+1,\n",
    "                                       class_weight=class_weights)"
   ]
  },
  {
   "cell_type": "markdown",
   "metadata": {},
   "source": [
    "This confusion matrix was taken from a [post](https://gist.github.com/RyanAkilos/3808c17f79e77c4117de35aa68447045) by Ryan Akilos."
   ]
  },
  {
   "cell_type": "code",
   "execution_count": 35,
   "metadata": {},
   "outputs": [
    {
     "name": "stdout",
     "output_type": "stream",
     "text": [
      "Confusion Matrix\n",
      "[[31  1  4  0  0  0  0  0]\n",
      " [ 3 29  0  0  0  0  0  0]\n",
      " [ 2 12 13  0  0  0  0  0]\n",
      " [ 0  0  2  0  0  0  0  0]\n",
      " [ 0  0  2  0  0  0  0  0]\n",
      " [ 0  0  2  0  0  0  0  0]\n",
      " [ 1  0  1  0  0  0  0  0]\n",
      " [ 1  0  2  0  0  0  0  0]]\n",
      "Classification Report\n",
      "              precision    recall  f1-score   support\n",
      "\n",
      "  0_colonies       0.82      0.86      0.84        36\n",
      "    1_colony       0.69      0.91      0.78        32\n",
      "  2_colonies       0.50      0.48      0.49        27\n",
      "  3_colonies       0.00      0.00      0.00         2\n",
      "  4_colonies       0.00      0.00      0.00         2\n",
      "  5_colonies       0.00      0.00      0.00         2\n",
      "  6_colonies       0.00      0.00      0.00         2\n",
      "     outlier       0.00      0.00      0.00         3\n",
      "\n",
      "    accuracy                           0.69       106\n",
      "   macro avg       0.25      0.28      0.26       106\n",
      "weighted avg       0.61      0.69      0.65       106\n",
      "\n"
     ]
    }
   ],
   "source": [
    "validation_generator.reset()\n",
    "Y_pred = model.predict_generator(validation_generator, NUM_TEST_SAMPLES // batch_size+1)\n",
    "y_pred = np.argmax(Y_pred, axis=1)\n",
    "print('Confusion Matrix')\n",
    "print(confusion_matrix(validation_generator.classes, y_pred))\n",
    "print('Classification Report')\n",
    "target_names = ['0_colonies','1_colony', '2_colonies', '3_colonies', '4_colonies', '5_colonies', '6_colonies', 'outlier']\n",
    "print(classification_report(validation_generator.classes, y_pred, target_names=target_names))"
   ]
  },
  {
   "cell_type": "code",
   "execution_count": null,
   "metadata": {},
   "outputs": [],
   "source": []
  }
 ],
 "metadata": {
  "kernelspec": {
   "display_name": "Python 3",
   "language": "python",
   "name": "python3"
  },
  "language_info": {
   "codemirror_mode": {
    "name": "ipython",
    "version": 3
   },
   "file_extension": ".py",
   "mimetype": "text/x-python",
   "name": "python",
   "nbconvert_exporter": "python",
   "pygments_lexer": "ipython3",
   "version": "3.6.8"
  },
  "toc": {
   "base_numbering": 1,
   "nav_menu": {},
   "number_sections": true,
   "sideBar": true,
   "skip_h1_title": false,
   "title_cell": "Table of Contents",
   "title_sidebar": "Contents",
   "toc_cell": false,
   "toc_position": {},
   "toc_section_display": true,
   "toc_window_display": true
  }
 },
 "nbformat": 4,
 "nbformat_minor": 2
}
