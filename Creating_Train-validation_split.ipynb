{
 "cells": [
  {
   "cell_type": "code",
   "execution_count": 1,
   "metadata": {},
   "outputs": [],
   "source": [
    "import warnings\n",
    "warnings.filterwarnings('ignore')\n",
    "\n",
    "import glob\n",
    "import marsican_functions as msn\n",
    "import numpy as np\n",
    "import os\n",
    "import shutil\n",
    "import sys"
   ]
  },
  {
   "cell_type": "code",
   "execution_count": 2,
   "metadata": {},
   "outputs": [],
   "source": [
    "# os.chdir('F:\\\\Segmentation_Data\\Labelled_imgs')\n",
    "# os.mkdir('training')\n",
    "# os.mkdir('validation')"
   ]
  },
  {
   "cell_type": "code",
   "execution_count": 2,
   "metadata": {},
   "outputs": [],
   "source": [
    "if 'win32' in sys.platform:\n",
    "    wd = os.getcwd() + '\\\\'\n",
    "if \"darwin\" in sys.platform:\n",
    "    wd = os.getcwd() + '/'"
   ]
  },
  {
   "cell_type": "markdown",
   "metadata": {},
   "source": [
    "### Make the necessary directories"
   ]
  },
  {
   "cell_type": "code",
   "execution_count": 29,
   "metadata": {},
   "outputs": [],
   "source": [
    "\n",
    "folders_to_make = ['1_colony', \n",
    "                   '2_colonies', \n",
    "                   '3_colonies',\n",
    "                   '4_colonies',\n",
    "                   '5_colonies',\n",
    "                   '6_colonies',\n",
    "                   'outlier']\n",
    "\n",
    "msn.make_folders(wd + 'training', folders_to_make)\n",
    "msn.make_folders(wd + 'validation', folders_to_make)"
   ]
  },
  {
   "cell_type": "markdown",
   "metadata": {},
   "source": [
    "### Testing copying works"
   ]
  },
  {
   "cell_type": "code",
   "execution_count": 30,
   "metadata": {},
   "outputs": [],
   "source": [
    "testing = '4_colonies\\\\Segment_n_10000.png'\n",
    "training_dir = 'training\\\\'"
   ]
  },
  {
   "cell_type": "code",
   "execution_count": 31,
   "metadata": {},
   "outputs": [
    {
     "data": {
      "text/plain": [
       "'F:\\\\Segmentation_Data\\\\Labelled_imgs\\\\training\\\\4_colonies\\\\Segment_n_10000.png'"
      ]
     },
     "execution_count": 31,
     "metadata": {},
     "output_type": "execute_result"
    }
   ],
   "source": [
    "shutil.copyfile(wd + testing, wd + training_dir + testing)"
   ]
  },
  {
   "cell_type": "code",
   "execution_count": 36,
   "metadata": {},
   "outputs": [],
   "source": [
    "msn.train_validation_imgsplit(os.getcwd(), train_size=.7)"
   ]
  },
  {
   "cell_type": "markdown",
   "metadata": {},
   "source": [
    "### Making Mask Training-Validation Set"
   ]
  },
  {
   "cell_type": "code",
   "execution_count": 3,
   "metadata": {},
   "outputs": [],
   "source": [
    "os.chdir('/Volumes/Samsung_T5/Segmentation_Data/Labelled_imgs/data_for_generator/Masks')\n",
    "wd = os.getcwd() + '/'\n",
    "# os.mkdir('training')\n",
    "# os.mkdir('validation')\n",
    "folders_to_make = ['1_colony', \n",
    "                   '2_colonies', \n",
    "                   '3_colonies',\n",
    "                   '4_colonies',\n",
    "                   '5_colonies',\n",
    "                   '6_colonies',\n",
    "                   'outlier']\n",
    "\n",
    "msn.make_folders(wd + 'training', folders_to_make)\n",
    "msn.make_folders(wd + 'validation', folders_to_make)"
   ]
  },
  {
   "cell_type": "code",
   "execution_count": 4,
   "metadata": {},
   "outputs": [],
   "source": [
    "msn.train_validation_imgsplit(os.getcwd(), train_size=0.7)"
   ]
  },
  {
   "cell_type": "code",
   "execution_count": 4,
   "metadata": {},
   "outputs": [
    {
     "data": {
      "text/plain": [
       "'/Users/anthonyschams/Documents/FlatironSchool/Marsican'"
      ]
     },
     "execution_count": 4,
     "metadata": {},
     "output_type": "execute_result"
    }
   ],
   "source": [
    "os.getcwd()"
   ]
  },
  {
   "cell_type": "code",
   "execution_count": null,
   "metadata": {},
   "outputs": [],
   "source": []
  }
 ],
 "metadata": {
  "kernelspec": {
   "display_name": "Python 3",
   "language": "python",
   "name": "python3"
  },
  "language_info": {
   "codemirror_mode": {
    "name": "ipython",
    "version": 3
   },
   "file_extension": ".py",
   "mimetype": "text/x-python",
   "name": "python",
   "nbconvert_exporter": "python",
   "pygments_lexer": "ipython3",
   "version": "3.6.8"
  },
  "toc": {
   "base_numbering": 1,
   "nav_menu": {},
   "number_sections": true,
   "sideBar": true,
   "skip_h1_title": false,
   "title_cell": "Table of Contents",
   "title_sidebar": "Contents",
   "toc_cell": false,
   "toc_position": {},
   "toc_section_display": true,
   "toc_window_display": true
  }
 },
 "nbformat": 4,
 "nbformat_minor": 2
}
