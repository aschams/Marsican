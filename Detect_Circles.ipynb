{
 "cells": [
  {
   "cell_type": "code",
   "execution_count": 1,
   "metadata": {},
   "outputs": [],
   "source": [
    "import sys\n",
    "\n",
    "import cv2\n",
    "import numpy as np\n",
    "from PIL import Image, ImageDraw"
   ]
  },
  {
   "cell_type": "code",
   "execution_count": 2,
   "metadata": {},
   "outputs": [],
   "source": [
    "if 'win32' in sys.platform:\n",
    "    ex_filepath = 'F:\\Colonies_Data\\data\\plate 2_24.png'\n",
    "if 'darwin' in sys.platform:\n",
    "    ex_filepath = \"/Volumes/Samsung_T5/Colonies_Data/data/plate 2_24.png\""
   ]
  },
  {
   "cell_type": "code",
   "execution_count": 7,
   "metadata": {},
   "outputs": [
    {
     "name": "stdout",
     "output_type": "stream",
     "text": [
      "[[145 143 142]]\n"
     ]
    }
   ],
   "source": [
    "# https://www.pyimagesearch.com/2014/07/21/detecting-circles-images-using-opencv-hough-circles/\n",
    "\n",
    "image = cv2.imread(ex_filepath)\n",
    "image = cv2.resize(image, (300,300))\n",
    "output = image.copy()\n",
    "gray = cv2.cvtColor(image, cv2.COLOR_BGR2GRAY)\n",
    "\n",
    "circles = cv2.HoughCircles(gray, cv2.HOUGH_GRADIENT, minDist=150, dp=2, minRadius=125, maxRadius=150 )\n",
    " \n",
    "# ensure at least some circles were found\n",
    "if circles is not None:\n",
    "    # convert the (x, y) coordinates and radius of the circles to integers\n",
    "    circle_ = np.round(circles[0, :]).astype(\"int\")\n",
    "    print(circle_)\n",
    "    # loop over the (x, y) coordinates and radius of the circles\n",
    "    for (x, y, r) in circle_:\n",
    "        # draw the circle in the output image, then draw a rectangle\n",
    "        # corresponding to the center of the circle\n",
    "        cv2.circle(output, (x, y), r, (0, 255, 0), 4)\n",
    "        cv2.rectangle(output, (x - 5, y - 5), (x + 5, y + 5), (0, 128, 255), -1)\n",
    " \n",
    "    # show the output image\n",
    "#     cv2.imshow(\"output\", np.hstack([image, output]))\n",
    "#     cv2.waitKey(0)"
   ]
  },
  {
   "cell_type": "code",
   "execution_count": 6,
   "metadata": {},
   "outputs": [
    {
     "data": {
      "text/plain": [
       "array([[145, 143, 142]])"
      ]
     },
     "execution_count": 6,
     "metadata": {},
     "output_type": "execute_result"
    }
   ],
   "source": [
    "circle_"
   ]
  },
  {
   "cell_type": "code",
   "execution_count": 11,
   "metadata": {},
   "outputs": [
    {
     "name": "stdout",
     "output_type": "stream",
     "text": [
      "[[145 143 142]]\n"
     ]
    }
   ],
   "source": [
    "img=Image.open(ex_filepath).convert(\"L\").resize((300,300))\n",
    "npImage=np.array(img)\n",
    "\n",
    "circles = cv2.HoughCircles(gray, cv2.HOUGH_GRADIENT, minDist=150, dp=2, minRadius=125, maxRadius=150 )\n",
    " \n",
    "    \n",
    "if circles is not None:\n",
    "    # convert the (x, y) coordinates and radius of the circles to integers\n",
    "    circle_ = np.round(circles[0, :]).astype(\"int\")\n",
    "    print(circle_)\n",
    "    # loop over the (x, y) coordinates and radius of the circles\n",
    "    x, y, r = circle_[0]\n",
    "h,w=img.size\n",
    "\n",
    "# Create same size alpha layer with circle\n",
    "alpha = Image.new('L', img.size,0)\n",
    "draw = ImageDraw.Draw(alpha)\n",
    "draw.pieslice([x-r, y-r, x+r, y+r],0,360,fill=255)\n",
    "\n",
    "# Convert alpha Image to numpy array\n",
    "npAlpha=np.array(alpha)\n",
    "\n",
    "# Add alpha layer to RGB\n",
    "npImage=np.dstack((npImage,npAlpha))\n",
    "\n",
    "# Save with alpha\n",
    "Image.fromarray(npImage).save('result.png')\n"
   ]
  },
  {
   "cell_type": "code",
   "execution_count": null,
   "metadata": {},
   "outputs": [],
   "source": []
  }
 ],
 "metadata": {
  "kernelspec": {
   "display_name": "Python 3",
   "language": "python",
   "name": "python3"
  },
  "language_info": {
   "codemirror_mode": {
    "name": "ipython",
    "version": 3
   },
   "file_extension": ".py",
   "mimetype": "text/x-python",
   "name": "python",
   "nbconvert_exporter": "python",
   "pygments_lexer": "ipython3",
   "version": "3.6.8"
  },
  "toc": {
   "base_numbering": 1,
   "nav_menu": {},
   "number_sections": true,
   "sideBar": true,
   "skip_h1_title": false,
   "title_cell": "Table of Contents",
   "title_sidebar": "Contents",
   "toc_cell": false,
   "toc_position": {},
   "toc_section_display": true,
   "toc_window_display": true
  }
 },
 "nbformat": 4,
 "nbformat_minor": 2
}
