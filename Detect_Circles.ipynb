{
 "cells": [
  {
   "cell_type": "markdown",
   "metadata": {},
   "source": [
    "# Import and Check OS"
   ]
  },
  {
   "cell_type": "code",
   "execution_count": 1,
   "metadata": {},
   "outputs": [],
   "source": [
    "import sys\n",
    "\n",
    "\n",
    "import cv2\n",
    "import matplotlib.pyplot as plt\n",
    "import numpy as np\n",
    "from PIL import Image, ImageDraw\n",
    "import scipy.ndimage as nd"
   ]
  },
  {
   "cell_type": "code",
   "execution_count": 2,
   "metadata": {},
   "outputs": [],
   "source": [
    "def change_contrast_brightness(image, alpha, beta):\n",
    "    \"\"\"\n",
    "    https://docs.opencv.org/3.4/d3/dc1/tutorial_basic_linear_transform.html\n",
    "    \"\"\"\n",
    "    new_image = np.zeros(image.shape, image.dtype)\n",
    "    \n",
    "    for y in range(image.shape[0]):\n",
    "        for x in range(image.shape[1]):\n",
    "            for c in range(image.shape[2]):\n",
    "                new_image[y,x,c] = np.clip(alpha*image[y,x,c] + beta, 0, 255)\n",
    "    return new_image\n",
    "\n",
    "def gamma_adjustment(img_original, gamma):\n",
    "    \"\"\"\n",
    "    https://docs.opencv.org/3.4/d3/dc1/tutorial_basic_linear_transform.html\n",
    "    \"\"\"\n",
    "    lookUpTable = np.empty((1,256), np.uint8)\n",
    "    for i in range(256):\n",
    "        lookUpTable[0,i] = np.clip(pow(i / 255.0, gamma) * 255.0, 0, 255)\n",
    "    res = cv2.LUT(img_original, lookUpTable)\n",
    "    return res"
   ]
  },
  {
   "cell_type": "code",
   "execution_count": 3,
   "metadata": {},
   "outputs": [],
   "source": [
    "if 'win32' in sys.platform:\n",
    "    ex_filepath = 'F:\\Colonies_Data\\data\\plate 2_24.png'\n",
    "if 'darwin' in sys.platform:\n",
    "    ex_filepath = \"/Volumes/Samsung_T5/Colonies_Data/data/plate 2_24.png\""
   ]
  },
  {
   "cell_type": "markdown",
   "metadata": {},
   "source": [
    "# Find the plate"
   ]
  },
  {
   "cell_type": "markdown",
   "metadata": {},
   "source": [
    "## Find position and radius of the plate"
   ]
  },
  {
   "cell_type": "code",
   "execution_count": 4,
   "metadata": {},
   "outputs": [
    {
     "name": "stdout",
     "output_type": "stream",
     "text": [
      "[[525 461 470]]\n"
     ]
    }
   ],
   "source": [
    "# https://www.pyimagesearch.com/2014/07/21/detecting-circles-images-using-opencv-hough-circles/\n",
    "ex_filepath = \"/Volumes/Samsung_T5/Segmentation_Data/VC0395_300mOsm_12.JPG\"\n",
    "IMG_SIZE = 1000\n",
    "\n",
    "image = cv2.imread(ex_filepath)\n",
    "image = cv2.resize(image, (IMG_SIZE, IMG_SIZE))\n",
    "output = image.copy()\n",
    "gray = cv2.cvtColor(image, cv2.COLOR_BGR2GRAY)\n",
    "\n",
    "circles = cv2.HoughCircles(gray, cv2.HOUGH_GRADIENT, minDist=int(IMG_SIZE/3), dp=2, minRadius=int(IMG_SIZE/3), maxRadius=int(IMG_SIZE/2))\n",
    " \n",
    "    \n",
    "if circles is not None:\n",
    "    # convert the (x, y) coordinates and radius of the circles to integers\n",
    "    circle_ = np.round(circles[0, :]).astype(\"int\")\n",
    "    print(circle_)\n",
    "    # loop over the (x, y) coordinates and radius of the circles\n",
    "    x, y, r = circle_[0]\n"
   ]
  },
  {
   "cell_type": "markdown",
   "metadata": {},
   "source": [
    "## Extract the plate"
   ]
  },
  {
   "cell_type": "code",
   "execution_count": 9,
   "metadata": {},
   "outputs": [],
   "source": [
    "img = Image.open(ex_filepath).convert(\"RGB\").resize((1000,1000))\n",
    "\n",
    "npImage=np.array(img)\n",
    "image = change_contrast_brightness(npImage, .8, 10)\n",
    "\n",
    "# Create same size alpha layer with circle\n",
    "alpha = Image.new('L', img.size,0)\n",
    "draw = ImageDraw.Draw(alpha)\n",
    "draw.pieslice([x-r, y-r, x+r, y+r],0,360,fill=255)\n",
    "\n",
    "# Convert alpha Image to numpy array\n",
    "npAlpha=np.array(alpha)\n",
    "\n",
    "# Add alpha layer to RGB\n",
    "npImage=np.dstack((image,npAlpha))\n",
    "\n",
    "# Save with alpha\n",
    "Image.fromarray(npImage).save('result.png')"
   ]
  },
  {
   "cell_type": "markdown",
   "metadata": {},
   "source": [
    "# Find Small circles"
   ]
  },
  {
   "cell_type": "code",
   "execution_count": 10,
   "metadata": {},
   "outputs": [
    {
     "name": "stdout",
     "output_type": "stream",
     "text": [
      "[[705 933  24]\n",
      " [703 935  24]\n",
      " [699 937  24]\n",
      " ...\n",
      " [199 771  11]\n",
      " [671 941  11]\n",
      " [413 971  11]]\n"
     ]
    }
   ],
   "source": [
    "image = cv2.imread('result.png', cv2.IMREAD_UNCHANGED)\n",
    "image2 = cv2.bitwise_not(image[:,:,:3])\n",
    "output = image2.copy()\n",
    "gray = cv2.cvtColor(image, cv2.COLOR_BGR2GRAY)\n",
    "\n",
    "circles = cv2.HoughCircles(gray, cv2.HOUGH_GRADIENT, minDist=1, dp=2, minRadius=10, maxRadius=25, param2=37)\n",
    " \n",
    "    \n",
    "if circles is not None:\n",
    "    # convert the (x, y) coordinates and radius of the circles to integers\n",
    "    circle_ = np.round(circles[0, :]).astype(\"int\")\n",
    "    print(circle_)\n",
    "    # loop over the (x, y) coordinates and radius of the circles\n",
    "    for (x, y, r) in circle_:\n",
    "        # draw the circle in the output image, then draw a rectangle\n",
    "        # corresponding to the center of the circle\n",
    "        cv2.circle(output, (x, y), r, (0, 255, 0), 4)\n",
    "        cv2.rectangle(output, (x - 5, y - 5), (x + 5, y + 5), (0, 128, 255), -1)\n",
    " \n",
    "    # show the output image\n",
    "#     cv2.imshow(\"output\", np.hstack([image2, output]))\n",
    "#     cv2.waitKey(0)"
   ]
  },
  {
   "cell_type": "code",
   "execution_count": 16,
   "metadata": {},
   "outputs": [],
   "source": [
    "def complete_fit(filepath, template, res_img1:str, res_img2:str, threshold=0.5):\n",
    "    img = cv2.imread(filepath,0)\n",
    "    img_rgb = cv2.imread(filepath)\n",
    "    img_rgb2 = img_rgb.copy()\n",
    "    img_rgb3 = img_rgb.copy()\n",
    "    template_ = cv2.imread(template, 0)\n",
    "    w, h = template_.shape[::-1]\n",
    "    loc = create_init_image(img_rgb, template_, threshold=threshold, res_img=res_img1) \n",
    "    matches = list(zip(*loc[::-1]))\n",
    "    matches = sorted(matches, key=lambda x:x[0])\n",
    "    unique_locs = find_unique_locs(matches, w, h)\n",
    "    merged_locs = find_merged_locs(unique_locs, w, h)\n",
    "    merged_locs = find_merged_locs(merged_locs, w, h)\n",
    "    create_final_image(img_rgb2, merged_locs, res_img=res_img2)\n",
    "    colonies = extract_colonies(img_rgb3, merged_locs)\n",
    "    return colonies"
   ]
  },
  {
   "cell_type": "code",
   "execution_count": 14,
   "metadata": {},
   "outputs": [],
   "source": [
    "def create_init_image(img_rgb, template, threshold, res_img):\n",
    "    \"\"\"\n",
    "    Creates the initial image, with all matches to the template outlined in red.\n",
    "    Inputs:\n",
    "        img_rgb: array of the image to highlight\n",
    "        template: template subimage to find in img_rgb\n",
    "        threshold: Threshold for the template matching algorithm\n",
    "        res_img1: filename to save the resulting image to.\n",
    "    Returns: None\n",
    "    \"\"\"\n",
    "    img_gray = cv2.cvtColor(img_rgb, cv2.COLOR_BGR2GRAY)\n",
    "    w, h = template.shape[::-1]\n",
    "    res = cv2.matchTemplate(img_gray, template, cv2.TM_CCOEFF_NORMED)\n",
    "    threshold = threshold\n",
    "    loc = np.where(res >= threshold)\n",
    "    for pt in zip(*loc[::-1]):\n",
    "        cv2.rectangle(img_rgb, pt, (pt[0] + w, pt[1] + h), (0, 0, 255), 2)\n",
    "    cv2.imwrite(res_img, img_rgb)\n",
    "    return loc\n",
    "\n",
    "\n",
    "def find_unique_locs(matches, w, h):\n",
    "    \"\"\"\n",
    "    Takes all matches to the template and returns a smaller set of boxes with additional space between them.\n",
    "    Inputs:\n",
    "        matches: a list of tuples containing a all matches to the template in the image.\n",
    "    Returns:\n",
    "        unique_locs: list of tuples containing less-overlapped boundary boxes\n",
    "    \"\"\"\n",
    "    unique_locs = []\n",
    "    current_loc = matches[0]\n",
    "    curr_lim = matches[0]\n",
    "    for i, match in enumerate(matches):\n",
    "        if ((match[0] < current_loc[0] + w)\n",
    "            and(match[1] < current_loc[1] + h)\n",
    "            and(match[0] >= current_loc[0])\n",
    "                and((match[1] >= current_loc[1] - h) and (match[1] <= current_loc[1] + h))):\n",
    "            current_lim = match\n",
    "        else:\n",
    "            unique_locs.append(\n",
    "                (current_loc, (current_loc[0] + w, current_loc[1] + h)))\n",
    "            current_loc = match\n",
    "            unique_locs.append(\n",
    "                (current_loc, (current_loc[0] + w, current_loc[1] + h)))\n",
    "            curr_lim = match\n",
    "    return unique_locs\n",
    "\n",
    "\n",
    "def find_merged_locs(unique_locs, w, h):\n",
    "    \"\"\"\n",
    "    Merges overlapping boundary boxes of colonies.\n",
    "    Inputs: \n",
    "        unique_locs: list of tuples containing data about the unique boundary boxes for colonies.\n",
    "    Returns:\n",
    "        merged_locs: list of tuples containing data about the boundary boxes for colonies, with \n",
    "            nearby boxes merged with one another.\n",
    "    \"\"\"\n",
    "    merged_locs = []\n",
    "    locs_to_skip = []\n",
    "    true_unique_locs = unique_locs.copy()\n",
    "    for location1 in true_unique_locs:\n",
    "        merge_count = 0\n",
    "        close_boxes = []\n",
    "        if location1 in locs_to_skip:\n",
    "            continue\n",
    "        for location2 in true_unique_locs:\n",
    "            if (location1 != location2) and is_close(location1, location2, w, h):\n",
    "                close_boxes.append(location2)\n",
    "                locs_to_skip.append(location2)\n",
    "                if location2 == ((1791, 1854), (1892, 1945)):\n",
    "                    print(location1)\n",
    "                merge_count += 1\n",
    "        if not close_boxes:\n",
    "            merged_locs.append(location1)\n",
    "        else:\n",
    "            farthest_box = find_farthest(location1, close_boxes)\n",
    "            merged_locs.append(merge_boxes(location1, farthest_box))\n",
    "    merged_locs = list(set(merged_locs))\n",
    "    return merged_locs\n",
    "\n",
    "\n",
    "def create_final_image(img, merged_locs, res_img):\n",
    "    \"\"\"\n",
    "    Creates the final image of the merged boundary boxes around colonies.\n",
    "    Inputs:\n",
    "        img: a numpy array of pixel intensities that make up the image.\n",
    "        merged_locs: set of merged boundary boxes for identified colonies.\n",
    "        res_img: file name to save resulting image to.\n",
    "    Returns: None\n",
    "    \"\"\"\n",
    "    for ul in merged_locs:\n",
    "        upper_left, lower_right = ul[0], ul[1]\n",
    "        cv2.rectangle(img, upper_left, lower_right, (0, 255, 0), 4)\n",
    "    cv2.imwrite(res_img, img)\n",
    "\n",
    "\n",
    "def extract_colonies(img, boxes):\n",
    "    \"\"\"\n",
    "    Gives arrays (to be converted to images) of all found colonies on the dish.\n",
    "    Inputs:\n",
    "        img:base image containing colonies.\n",
    "        boxes: locations of boxes containing colonies.\n",
    "    Returns:\n",
    "        colonies: arrays (to be converted to images) containing supposed colonies.\n",
    "    \"\"\"\n",
    "    colonies = []\n",
    "    for box in boxes:\n",
    "        y1 = box[0][0]\n",
    "        x1 = box[0][1]\n",
    "        y2 = box[1][0]\n",
    "        x2 = box[1][1]\n",
    "        sub_image = img[x1:x2+1, y1:y2+1,:]\n",
    "        colonies.append(sub_image)\n",
    "    return colonies\n",
    "\n",
    "def is_close(loc1, loc2, w=100, h=100):\n",
    "    loc1_f = np.array(loc1[1])\n",
    "    loc2_f = np.array(loc2[1])\n",
    "    diag_of_rect = np.sqrt(w ** 2 + h ** 2)\n",
    "    if np.linalg.norm(loc1_f - loc2_f, 2) <  diag_of_rect:# max(w, h):\n",
    "        return True\n",
    "    else:\n",
    "        return False\n",
    "    \n",
    "def merge_boxes(box_1, box_2):\n",
    "    new_box_x1 = min(box_1[0][0], box_2[0][0])\n",
    "    new_box_x2 = max(box_1[1][0], box_2[1][0])\n",
    "    new_box_y1 = min(box_1[0][1], box_2[0][1])\n",
    "    new_box_y2 = max(box_1[1][1], box_2[1][1])\n",
    "    new_box = ((new_box_x1, new_box_y1), (new_box_x2, new_box_y2))\n",
    "    return new_box\n",
    "\n",
    "\n",
    "def overlap(box_1, box_2):\n",
    "    x11 = box_1[0][0]\n",
    "    y11 = box_1[0][1]\n",
    "    x12 = box_1[1][0]\n",
    "    y12 = box_1[1][1]\n",
    "    x21 = box_2[0][0]\n",
    "    y21 = box_2[0][1]\n",
    "    x22 = box_2[1][0]\n",
    "    y22 = box_2[1][1]\n",
    "    if ((((x21 <= x12) and (x22 >= x12) and (y21 >= y12) and (y22 <= y12))) \n",
    "        or ((x21 >= x12) and (x22 <= x12) and (y21 <= y12) and (y22 >= y12))\n",
    "        or ((x11 >=x21) and (x11 <= x22) and (y11<= y21) and (y12 >= y21))\n",
    "        or ((x11 >= x21) and (x11 <= x22) and (y11 >= y21) and (y11 <= y22))):\n",
    "            return True\n",
    "    else:\n",
    "        return False\n",
    "    \n",
    "    \n",
    "def find_farthest(box_1, other_boxes):\n",
    "    dists = []\n",
    "    for ob in other_boxes:\n",
    "        box_1_array = np.array(box_1[0])\n",
    "        ob_array = np.array(ob[0])\n",
    "        dists.append(np.linalg.norm(box_1_array - ob_array, 2))\n",
    "    farthest_idx = dists.index(max(dists))\n",
    "    return other_boxes[farthest_idx]\n",
    "\n",
    "def find_max_boxes(locs, w, h):\n",
    "    loc_1 = locs[0]\n",
    "    loc_2 = locs[1]\n",
    "    upper_left = (min(loc_1[0], loc_2[0]), max(loc_1[1], loc_2[1]))\n",
    "    lower_right = (max(loc_1[0], loc_2[0]) , max(loc_1[1], loc_2[1]) - h)\n",
    "    return (upper_left, lower_right)\n"
   ]
  },
  {
   "cell_type": "markdown",
   "metadata": {},
   "source": [
    "### Plate 1"
   ]
  },
  {
   "cell_type": "code",
   "execution_count": 335,
   "metadata": {},
   "outputs": [],
   "source": [
    "mc12 = complete_fit(\"/Volumes/Samsung_T5/Segmentation_Data/VC0395_300mOsm_12.JPG\", \n",
    "             \"/Volumes/Samsung_T5/Segmentation_Data/Individual_Colonies/VC0395_300mOsm_12_colony.JPG\",\n",
    "             \"res_12.png\",\n",
    "             \"res_12_count.png\", threshold=0.6)"
   ]
  },
  {
   "cell_type": "code",
   "execution_count": 336,
   "metadata": {},
   "outputs": [
    {
     "data": {
      "image/png": "[encoded data removed]",
      "text/plain": [
       "<Figure size 432x288 with 1 Axes>"
      ]
     },
     "metadata": {
      "needs_background": "light"
     },
     "output_type": "display_data"
    },
    {
     "data": {
      "image/png": "[encoded data removed]",
      "text/plain": [
       "<Figure size 432x288 with 1 Axes>"
      ]
     },
     "metadata": {
      "needs_background": "light"
     },
     "output_type": "display_data"
    },
    {
     "data": {
      "image/png": "[encoded data removed]",
      "text/plain": [
       "<Figure size 432x288 with 1 Axes>"
      ]
     },
     "metadata": {
      "needs_background": "light"
     },
     "output_type": "display_data"
    },
    {
     "data": {
      "image/png": "[encoded data removed]",
      "text/plain": [
       "<Figure size 432x288 with 1 Axes>"
      ]
     },
     "metadata": {
      "needs_background": "light"
     },
     "output_type": "display_data"
    },
    {
     "data": {
      "image/png": "[encoded data removed]",
      "text/plain": [
       "<Figure size 432x288 with 1 Axes>"
      ]
     },
     "metadata": {
      "needs_background": "light"
     },
     "output_type": "display_data"
    },
    {
     "data": {
      "image/png": "[encoded data removed]",
      "text/plain": [
       "<Figure size 432x288 with 1 Axes>"
      ]
     },
     "metadata": {
      "needs_background": "light"
     },
     "output_type": "display_data"
    },
    {
     "data": {
      "image/png": "[encoded data removed]",
      "text/plain": [
       "<Figure size 432x288 with 1 Axes>"
      ]
     },
     "metadata": {
      "needs_background": "light"
     },
     "output_type": "display_data"
    },
    {
     "data": {
      "image/png": "[encoded data removed]",
      "text/plain": [
       "<Figure size 432x288 with 1 Axes>"
      ]
     },
     "metadata": {
      "needs_background": "light"
     },
     "output_type": "display_data"
    },
    {
     "data": {
      "image/png": "[encoded data removed]",
      "text/plain": [
       "<Figure size 432x288 with 1 Axes>"
      ]
     },
     "metadata": {
      "needs_background": "light"
     },
     "output_type": "display_data"
    },
    {
     "data": {
      "image/png": "[encoded data removed]",
      "text/plain": [
       "<Figure size 432x288 with 1 Axes>"
      ]
     },
     "metadata": {
      "needs_background": "light"
     },
     "output_type": "display_data"
    }
   ],
   "source": [
    "for colony in mc12:\n",
    "    plt.figure()\n",
    "    plt.imshow(colony)"
   ]
  },
  {
   "cell_type": "markdown",
   "metadata": {},
   "source": [
    "### Plate 2"
   ]
  },
  {
   "cell_type": "code",
   "execution_count": 288,
   "metadata": {},
   "outputs": [],
   "source": [
    "complete_fit(\"/Volumes/Samsung_T5/Colonies_Data/data/plate 81_50.png\", \n",
    "             \"/Volumes/Samsung_T5/Segmentation_Data/Individual_Colonies/plate 81_50_Colony.png\",\n",
    "             \"res_81.png\",\n",
    "             \"res_81_count.png\", threshold=0.75)"
   ]
  },
  {
   "cell_type": "markdown",
   "metadata": {},
   "source": [
    "### Plate 3"
   ]
  },
  {
   "cell_type": "code",
   "execution_count": 17,
   "metadata": {},
   "outputs": [],
   "source": [
    "mc3 = complete_fit(\"/Volumes/Samsung_T5/Segmentation_Data/Sukharev_Lab_Data/plates/MJF465_400mOsm_37(1).JPG\",\n",
    "                   \"/Volumes/Samsung_T5/Segmentation_Data/Sukharev_Lab_Data/colonies/MJF465_400mOsm_37(1)_colony.jpg\",\n",
    "                   \"res_37(1).png\",\n",
    "                   \"res_37(1)_count.png\")"
   ]
  },
  {
   "cell_type": "markdown",
   "metadata": {},
   "source": [
    "## Attempting Template Matching"
   ]
  },
  {
   "cell_type": "code",
   "execution_count": 214,
   "metadata": {},
   "outputs": [
    {
     "data": {
      "text/plain": [
       "True"
      ]
     },
     "execution_count": 214,
     "metadata": {},
     "output_type": "execute_result"
    }
   ],
   "source": [
    "ex_filepath = \"/Volumes/Samsung_T5/Segmentation_Data/VC0395_300mOsm_12.JPG\"\n",
    "img = cv2.imread(ex_filepath,0)\n",
    "img2 = img.copy()\n",
    "template = cv2.imread(\"/Volumes/Samsung_T5/Segmentation_Data/VC0395_300mOsm_12_Colony.JPG\",0)\n",
    "img_rgb = cv2.imread(ex_filepath)\n",
    "img_gray = cv2.cvtColor(img_rgb, cv2.COLOR_BGR2GRAY)\n",
    "w, h = template.shape[::-1]\n",
    "\n",
    "res = cv2.matchTemplate(img_gray,template,cv2.TM_CCOEFF_NORMED)\n",
    "threshold = .5\n",
    "loc = np.where(res >= threshold)\n",
    "for pt in zip(*loc[::-1]):\n",
    "    cv2.rectangle(img_rgb, pt, (pt[0] + w, pt[1] + h), (0,0,255), 2)\n",
    "\n",
    "cv2.imwrite('res_30.png',img_rgb)"
   ]
  },
  {
   "cell_type": "code",
   "execution_count": 215,
   "metadata": {},
   "outputs": [],
   "source": [
    "def is_close(loc1, loc2, w=100, h=100):\n",
    "    loc1_f = np.array(loc1[1])\n",
    "    loc2_f = np.array(loc2[1])\n",
    "    diag_of_rect = np.sqrt(w ** 2 + h ** 2)\n",
    "    if np.linalg.norm(loc1_f - loc2_f, 2) <  diag_of_rect:# max(w, h):\n",
    "        return True\n",
    "    else:\n",
    "        return False\n",
    "    \n",
    "def merge_boxes(box_1, box_2):\n",
    "    new_box_x1 = min(box_1[0][0], box_2[0][0])\n",
    "    new_box_x2 = max(box_1[1][0], box_2[1][0])\n",
    "    new_box_y1 = min(box_1[0][1], box_2[0][1])\n",
    "    new_box_y2 = max(box_1[1][1], box_2[1][1])\n",
    "    new_box = ((new_box_x1, new_box_y1), (new_box_x2, new_box_y2))\n",
    "    return new_box\n",
    "\n",
    "\n",
    "def overlap(box_1, box_2):\n",
    "    x11 = box_1[0][0]\n",
    "    y11 = box_1[0][1]\n",
    "    x12 = box_1[1][0]\n",
    "    y12 = box_1[1][1]\n",
    "    x21 = box_2[0][0]\n",
    "    y21 = box_2[0][1]\n",
    "    x22 = box_2[1][0]\n",
    "    y22 = box_2[1][1]\n",
    "    if ((((x21 <= x12) and (x22 >= x12) and (y21 >= y12) and (y22 <= y12))) \n",
    "        or ((x21 >= x12) and (x22 <= x12) and (y21 <= y12) and (y22 >= y12))\n",
    "        or ((x11 >=x21) and (x11 <= x22) and (y11<= y21) and (y12 >= y21))\n",
    "        or ((x11 >= x21) and (x11 <= x22) and (y11 >= y21) and (y11 <= y22))):\n",
    "            return True\n",
    "    else:\n",
    "        return False\n",
    "    \n",
    "    \n",
    "def find_farthest(box_1, other_boxes):\n",
    "    dists = []\n",
    "    for ob in other_boxes:\n",
    "        box_1_array = np.array(box_1[0])\n",
    "        ob_array = np.array(ob[0])\n",
    "        dists.append(np.linalg.norm(box_1_array - ob_array, 2))\n",
    "    farthest_idx = dists.index(max(dists))\n",
    "    return other_boxes[farthest_idx]\n",
    "\n",
    "def find_max_boxes(locs, w, h):\n",
    "    loc_1 = locs[0]\n",
    "    loc_2 = locs[1]\n",
    "    upper_left = (min(loc_1[0], loc_2[0]), max(loc_1[1], loc_2[1]))\n",
    "    lower_right = (max(loc_1[0], loc_2[0]) , max(loc_1[1], loc_2[1]) - h)\n",
    "    return (upper_left, lower_right)\n"
   ]
  },
  {
   "cell_type": "markdown",
   "metadata": {},
   "source": [
    "### Attempting to merge unique_locs"
   ]
  },
  {
   "cell_type": "code",
   "execution_count": 216,
   "metadata": {},
   "outputs": [],
   "source": [
    "matches = list(zip(*loc[::-1]))\n",
    "matches = sorted(matches, key=lambda x:x[0])\n",
    "ul_br_locs = [(match, (match[0] + w, match[1] + h)) for match in matches]"
   ]
  },
  {
   "cell_type": "code",
   "execution_count": 197,
   "metadata": {
    "scrolled": true
   },
   "outputs": [],
   "source": [
    "filt = (loc[0] >=2800) * (loc[0] < 3000) * (loc[1] >= 2000) * (loc[1] <=2200)"
   ]
  },
  {
   "cell_type": "code",
   "execution_count": 198,
   "metadata": {},
   "outputs": [],
   "source": [
    "loc[0]\n",
    "filtered_list = [i for idx, i in enumerate(zip(*loc[::-1])) if filt[idx]]"
   ]
  },
  {
   "cell_type": "markdown",
   "metadata": {},
   "source": [
    "#### Attempt 1"
   ]
  },
  {
   "cell_type": "code",
   "execution_count": 217,
   "metadata": {},
   "outputs": [],
   "source": [
    "problem_colony = [match for match in matches if (match[0] >=2800 and match[0] < 3000 and match[1] >= 2000 and match[1] <=2200)]\n",
    "unique_locs = []\n",
    "current_loc = matches[0]\n",
    "curr_lim = matches[0]\n",
    "for i, match in enumerate(matches):\n",
    "    if ((match[0] < current_loc[0] + w) \n",
    "        and(match[1] < current_loc[1] + h)\n",
    "        and(match[0] >= current_loc[0])\n",
    "        and((match[1] >= current_loc[1] - h) and (match[1] <= current_loc[1] + h))): # Inside curr_loc's box\n",
    "            current_lim = match\n",
    "    else:\n",
    "        if match in filtered_list:\n",
    "#             print('Problem')\n",
    "#             print(match)\n",
    "            print(current_loc)\n",
    "        unique_locs.append((current_loc, (current_loc[0] + w, current_loc[1] + h)))\n",
    "        current_loc = match\n",
    "        unique_locs.append((current_loc, (current_loc[0] + w, current_loc[1] + h)))\n",
    "        curr_lim = match\n",
    "        "
   ]
  },
  {
   "cell_type": "markdown",
   "metadata": {},
   "source": [
    "#### Attempt 2"
   ]
  },
  {
   "cell_type": "code",
   "execution_count": 200,
   "metadata": {},
   "outputs": [],
   "source": [
    "unique_locs = []\n",
    "current_loc = matches[0]\n",
    "curr_lim = matches[0]\n",
    "for match in matches:\n",
    "    if ((match[0] < current_loc[0] ) \n",
    "        and(match[1] < current_loc[1])\n",
    "        and(match[0] >= current_loc[0])\n",
    "        and((match[1] >= current_loc[1] ) and (match[1] <= current_loc[1]))): # Inside curr_loc's box\n",
    "            current_lim = match\n",
    "    else:\n",
    "        unique_locs.append((current_loc, (current_loc[0] + w, current_loc[1] + h)))\n",
    "        current_loc = match\n",
    "        curr_lim = match"
   ]
  },
  {
   "cell_type": "markdown",
   "metadata": {},
   "source": [
    "#### End of Attempt 2"
   ]
  },
  {
   "cell_type": "code",
   "execution_count": 233,
   "metadata": {},
   "outputs": [],
   "source": [
    "merged_locs = []\n",
    "locs_to_skip = []\n",
    "true_unique_locs = unique_locs.copy()\n",
    "for location1 in true_unique_locs:\n",
    "    merge_count = 0\n",
    "    close_boxes = []\n",
    "    if location1 in locs_to_skip: \n",
    "        continue\n",
    "    for location2 in true_unique_locs:\n",
    "        if (location1 != location2) and is_close(location1, location2, w, h):\n",
    "            close_boxes.append(location2)\n",
    "#             merged_locs.append(merge_boxes(location1, location2))\n",
    "            locs_to_skip.append(location2)\n",
    "            if location2 == ((1791, 1854), (1892, 1945)): \n",
    "                print(location1)\n",
    "            merge_count += 1\n",
    "    if not close_boxes:\n",
    "        merged_locs.append(location1)\n",
    "    else:\n",
    "        farthest_box = find_farthest(location1, close_boxes)\n",
    "        merged_locs.append(merge_boxes(location1, farthest_box))\n",
    "merged_locs = list(set(merged_locs))"
   ]
  },
  {
   "cell_type": "code",
   "execution_count": 232,
   "metadata": {},
   "outputs": [
    {
     "data": {
      "text/plain": [
       "True"
      ]
     },
     "execution_count": 232,
     "metadata": {},
     "output_type": "execute_result"
    }
   ],
   "source": [
    "# template = cv2.imread(\"/Volumes/Samsung_T5/Segmentation_Data/VC0395_300mOsm_12_colony.JPG\",0)\n",
    "img_rgb = cv2.imread(ex_filepath)\n",
    "img_gray = cv2.cvtColor(img_rgb, cv2.COLOR_BGR2GRAY)\n",
    "w, h = template.shape[::-1]\n",
    "\n",
    "res = cv2.matchTemplate(img_gray,template,cv2.TM_CCOEFF_NORMED)\n",
    "threshold = 0.60\n",
    "loc = np.where( res >= threshold)\n",
    "for ul in merged_locs:\n",
    "    upper_left, lower_right = ul[0], ul[1]\n",
    "#     cv2.rectangle(img_rgb, ul[0], (ul[1][0] + w, ul[1][1] + h), (0,0,255), 2)\n",
    "    cv2.rectangle(img_rgb, upper_left, lower_right, (0,255,0), 4)\n",
    "# for ul in unique_locs:\n",
    "#     cv2.rectangle(img_rgb, ul[0], (ul[1][0] , ul[1][1] ), (0,0,255), 2)\n",
    "    \n",
    "cv2.imwrite('res2.png',img_rgb)"
   ]
  },
  {
   "cell_type": "code",
   "execution_count": 297,
   "metadata": {},
   "outputs": [
    {
     "data": {
      "text/plain": [
       "[((775, 2172), (907, 2263)),\n",
       " ((1646, 1435), (1825, 1539)),\n",
       " ((980, 1329), (1160, 1496)),\n",
       " ((1700, 166), (1807, 260)),\n",
       " ((2035, 2435), (2162, 2529)),\n",
       " ((1601, 2197), (1702, 2288)),\n",
       " ((1805, 2790), (1913, 2888)),\n",
       " ((700, 1532), (813, 1630)),\n",
       " ((677, 3779), (778, 3870)),\n",
       " ((1782, 1850), (1913, 1944)),\n",
       " ((1427, 867), (1528, 958)),\n",
       " ((945, 2701), (1086, 2888)),\n",
       " ((1357, 3757), (1458, 3848)),\n",
       " ((2006, 639), (2107, 730)),\n",
       " ((806, 1043), (908, 1134)),\n",
       " ((1382, 1548), (1483, 1639)),\n",
       " ((194, 242), (295, 333)),\n",
       " ((1278, 1321), (1379, 1412)),\n",
       " ((1899, 483), (2050, 583)),\n",
       " ((1555, 2820), (1662, 2915)),\n",
       " ((1869, 3056), (1970, 3147)),\n",
       " ((311, 3398), (412, 3489)),\n",
       " ((2047, 221), (2163, 314)),\n",
       " ((1693, 2927), (1825, 3022)),\n",
       " ((701, 1978), (812, 2076)),\n",
       " ((478, 1786), (579, 1877)),\n",
       " ((1620, 2506), (1721, 2597)),\n",
       " ((2023, 2876), (2157, 2972)),\n",
       " ((1913, 881), (2143, 997)),\n",
       " ((1696, 3633), (1804, 3725)),\n",
       " ((1093, 872), (1194, 963)),\n",
       " ((896, 331), (997, 422)),\n",
       " ((1551, 1617), (1663, 1710))]"
      ]
     },
     "execution_count": 297,
     "metadata": {},
     "output_type": "execute_result"
    }
   ],
   "source": [
    "merged_locs"
   ]
  },
  {
   "cell_type": "markdown",
   "metadata": {},
   "source": [
    "#### Finding Missing Colonies"
   ]
  },
  {
   "cell_type": "code",
   "execution_count": 97,
   "metadata": {},
   "outputs": [
    {
     "data": {
      "text/plain": [
       "True"
      ]
     },
     "execution_count": 97,
     "metadata": {},
     "output_type": "execute_result"
    }
   ],
   "source": [
    "img_rgb = cv2.imread(ex_filepath)\n",
    "img_ = img_rgb[2800:3000, 2000:2200]\n",
    "cv2.imwrite('res3.png', img_ )"
   ]
  },
  {
   "cell_type": "code",
   "execution_count": null,
   "metadata": {},
   "outputs": [],
   "source": []
  },
  {
   "cell_type": "code",
   "execution_count": null,
   "metadata": {},
   "outputs": [],
   "source": []
  },
  {
   "cell_type": "code",
   "execution_count": null,
   "metadata": {},
   "outputs": [],
   "source": []
  },
  {
   "cell_type": "code",
   "execution_count": null,
   "metadata": {},
   "outputs": [],
   "source": []
  },
  {
   "cell_type": "code",
   "execution_count": 41,
   "metadata": {},
   "outputs": [
    {
     "data": {
      "text/plain": [
       "[((711, 1539), (812, 1630)),\n",
       " ((785, 2173), (886, 2264)),\n",
       " ((958, 2797), (1059, 2888)),\n",
       " ((1282, 1320), (1383, 1411)),\n",
       " ((1394, 1548), (1495, 1639)),\n",
       " ((1662, 1444), (1763, 1535)),\n",
       " ((1718, 2927), (1819, 3018)),\n",
       " ((1791, 1854), (1892, 1945)),\n",
       " ((2021, 900), (2122, 991))]"
      ]
     },
     "execution_count": 41,
     "metadata": {},
     "output_type": "execute_result"
    }
   ],
   "source": [
    "true_unique_locs"
   ]
  },
  {
   "cell_type": "code",
   "execution_count": 26,
   "metadata": {},
   "outputs": [
    {
     "data": {
      "text/plain": [
       "[((711, 1539), (812, 1630)),\n",
       " ((785, 2173), (886, 2264)),\n",
       " ((958, 2705), (1084, 2888)),\n",
       " ((1282, 1320), (1383, 1411)),\n",
       " ((1394, 1548), (1495, 1639)),\n",
       " ((1662, 1440), (1818, 1535)),\n",
       " ((1662, 1439), (1819, 1535)),\n",
       " ((1701, 2927), (1818, 3020)),\n",
       " ((1701, 2927), (1819, 3020)),\n",
       " ((2021, 900), (2122, 991))]"
      ]
     },
     "execution_count": 26,
     "metadata": {},
     "output_type": "execute_result"
    }
   ],
   "source": [
    "merged_locs"
   ]
  },
  {
   "cell_type": "code",
   "execution_count": 120,
   "metadata": {},
   "outputs": [
    {
     "name": "stdout",
     "output_type": "stream",
     "text": [
      "(array([ 898,  898,  898, ..., 2943, 2943, 2943]), array([2023, 2024, 2025, ..., 1715, 1716, 1717]))\n"
     ]
    },
    {
     "data": {
      "text/plain": [
       "True"
      ]
     },
     "execution_count": 120,
     "metadata": {},
     "output_type": "execute_result"
    }
   ],
   "source": [
    "img = cv2.imread(ex_filepath,0)\n",
    "img2 = img.copy()\n",
    "template = cv2.imread(\"/Volumes/Samsung_T5/Segmentation_Data/VC0395_300mOsm_12_colony.JPG\",0)\n",
    "img_rgb = cv2.imread(ex_filepath)\n",
    "img_gray = cv2.cvtColor(img_rgb, cv2.COLOR_BGR2GRAY)\n",
    "w, h = template.shape[::-1]\n",
    "\n",
    "res = cv2.matchTemplate(img_gray,template,cv2.TM_CCOEFF_NORMED)\n",
    "threshold = 0.6\n",
    "loc = np.where( res >= threshold)\n",
    "for pt in zip(*loc[::-1]):\n",
    "    cv2.rectangle(img_rgb, pt, (pt[0] + w, pt[1] + h), (0,0,255), 2)\n",
    "\n",
    "cv2.imwrite('res.png',img_rgb)"
   ]
  },
  {
   "cell_type": "code",
   "execution_count": 131,
   "metadata": {},
   "outputs": [
    {
     "name": "stdout",
     "output_type": "stream",
     "text": [
      "((711, 1539), (812, 1630))\n",
      "((785, 2173), (886, 2264))\n",
      "((958, 2797), (1059, 2888))\n",
      "((983, 2705), (1084, 2796))\n",
      "((1282, 1320), (1383, 1411))\n",
      "((1394, 1548), (1495, 1639))\n",
      "((1662, 1444), (1763, 1535))\n",
      "((1701, 2929), (1802, 3020))\n",
      "((1717, 1440), (1818, 1531))\n",
      "((1717, 2927), (1818, 3018))\n",
      "((1718, 1439), (1819, 1530))\n",
      "((1718, 2927), (1819, 3018))\n",
      "((1791, 1854), (1892, 1945))\n",
      "((2021, 900), (2122, 991))\n"
     ]
    }
   ],
   "source": [
    "for ul in unique_locs:\n",
    "    print(ul)"
   ]
  },
  {
   "cell_type": "code",
   "execution_count": 264,
   "metadata": {},
   "outputs": [
    {
     "data": {
      "text/plain": [
       "True"
      ]
     },
     "execution_count": 264,
     "metadata": {},
     "output_type": "execute_result"
    }
   ],
   "source": [
    "template = cv2.imread(\"/Volumes/Samsung_T5/Segmentation_Data/VC0395_300mOsm_12_colony.JPG\",0)\n",
    "img_rgb = cv2.imread(ex_filepath)\n",
    "img_gray = cv2.cvtColor(img_rgb, cv2.COLOR_BGR2GRAY)\n",
    "w, h = template.shape[::-1]\n",
    "\n",
    "res = cv2.matchTemplate(img_gray,template,cv2.TM_CCOEFF_NORMED)\n",
    "threshold = 0.55\n",
    "loc = np.where( res >= threshold)\n",
    "for ul in true_unique_locs:\n",
    "    upper_left, lower_right = find_max_boxes(ul, w, h)\n",
    "#     cv2.rectangle(img_rgb, ul[0], (ul[1][0] + w, ul[1][1] + h), (0,0,255), 2)\n",
    "    cv2.rectangle(img_rgb, upper_left, lower_right, (0,255,0), 2)\n",
    "\n",
    "cv2.imwrite('res.png',img_rgb)\n",
    "\n"
   ]
  },
  {
   "cell_type": "code",
   "execution_count": 67,
   "metadata": {},
   "outputs": [
    {
     "data": {
      "text/plain": [
       "[((711, 1539), (719, 1542)),\n",
       " ((785, 2173), (803, 2174)),\n",
       " ((958, 2797), (982, 2721)),\n",
       " ((983, 2705), (996, 2715)),\n",
       " ((1282, 1320), (1296, 1323)),\n",
       " ((1394, 1548), (1416, 1549)),\n",
       " ((1662, 1444), (1674, 1447)),\n",
       " ((1701, 2929), (1716, 2943)),\n",
       " ((1717, 1440), (1716, 2943)),\n",
       " ((1717, 2927), (1717, 2943)),\n",
       " ((1718, 1439), (1718, 1440)),\n",
       " ((1718, 2927), (1723, 2937)),\n",
       " ((1791, 1854), (1810, 1856)),\n",
       " ((2021, 900), (2032, 908))]"
      ]
     },
     "execution_count": 67,
     "metadata": {},
     "output_type": "execute_result"
    }
   ],
   "source": [
    "unique_locs"
   ]
  },
  {
   "cell_type": "markdown",
   "metadata": {},
   "source": [
    "### Trying to merge close colony boxes"
   ]
  },
  {
   "cell_type": "code",
   "execution_count": null,
   "metadata": {},
   "outputs": [],
   "source": [
    "locs_to_remove = []\n",
    "true_unique_locs = ul_br_locs.copy()\n",
    "for location1 in true_unique_locs:\n",
    "    for location2 in true_unique_locs:\n",
    "        if (location1 != location2) and is_close(location1, location2):\n",
    "            locs_to_remove.append(location2)"
   ]
  },
  {
   "cell_type": "code",
   "execution_count": 268,
   "metadata": {},
   "outputs": [],
   "source": []
  },
  {
   "cell_type": "code",
   "execution_count": 257,
   "metadata": {},
   "outputs": [
    {
     "data": {
      "text/plain": [
       "((711, 1539), (812, 1632))"
      ]
     },
     "execution_count": 257,
     "metadata": {},
     "output_type": "execute_result"
    }
   ],
   "source": [
    "first_box = ul_br_locs[0]\n",
    "overlapped_boxes = []\n",
    "for box in ul_br_locs[:5]:\n",
    "    if overlap(box, first_box):\n",
    "        overlapped_boxes.append(box)\n",
    "\n",
    "farthest_box = find_farthest(first_box, overlapped_boxes)\n",
    "new_box = merge_boxes(first_box, farthest_box)\n",
    "new_box"
   ]
  },
  {
   "cell_type": "code",
   "execution_count": 258,
   "metadata": {},
   "outputs": [],
   "source": [
    "ul_br_locs_c = ul_br_locs.copy()\n",
    "merged_boxes = []\n",
    "for fb in ul_br_locs_c:\n",
    "    overlapped_boxes = []\n",
    "    for box in ul_br_locs_c:\n",
    "        if overlap(fb, box):\n",
    "            overlapped_boxes.append(box)\n",
    "            ul_br_locs_c.remove(box)\n",
    "    farthest_box = find_farthest(fb, overlapped_boxes)\n",
    "    new_box = merge_boxes(fb, farthest_box)\n",
    "    merged_boxes.append(new_box)"
   ]
  },
  {
   "cell_type": "code",
   "execution_count": 262,
   "metadata": {},
   "outputs": [
    {
     "data": {
      "text/plain": [
       "2423"
      ]
     },
     "execution_count": 262,
     "metadata": {},
     "output_type": "execute_result"
    }
   ],
   "source": [
    "len(ul_br_locs)"
   ]
  },
  {
   "cell_type": "markdown",
   "metadata": {},
   "source": [
    "## Extra Stuff"
   ]
  },
  {
   "cell_type": "code",
   "execution_count": 242,
   "metadata": {
    "scrolled": true
   },
   "outputs": [
    {
     "data": {
      "text/plain": [
       "[((711, 1539), (812, 1630)),\n",
       " ((785, 2173), (886, 2264)),\n",
       " ((958, 2797), (1059, 2888)),\n",
       " ((1282, 1320), (1383, 1411)),\n",
       " ((1394, 1548), (1495, 1639)),\n",
       " ((1662, 1444), (1763, 1535)),\n",
       " ((1718, 2927), (1819, 3018)),\n",
       " ((1791, 1854), (1892, 1945)),\n",
       " ((2021, 900), (2122, 991))]"
      ]
     },
     "execution_count": 242,
     "metadata": {},
     "output_type": "execute_result"
    }
   ],
   "source": [
    "true_unique_locs"
   ]
  },
  {
   "cell_type": "code",
   "execution_count": 243,
   "metadata": {},
   "outputs": [],
   "source": [
    "\n",
    "total_locs = true_unique_locs.copy()\n",
    "len(total_locs)\n",
    "locs_to_remove = []\n",
    "all_locs = []\n",
    "for ul_1 in total_locs:\n",
    "    current_close = 0\n",
    "    for ul_2 in total_locs:\n",
    "        if is_close(ul_1, ul_2, w, h) and ul_1 != ul_2:\n",
    "            all_locs.append(find_max_boxes((ul_1[0], ul_2[0]), w, h))\n",
    "            locs_to_remove.append(ul_1)\n",
    "            locs_to_remove.append(ul_2)\n",
    "            current_close += 1\n",
    "    if not current_close:\n",
    "        all_locs.append(find_max_boxes(ul_1, w, h))"
   ]
  },
  {
   "cell_type": "code",
   "execution_count": 244,
   "metadata": {},
   "outputs": [
    {
     "data": {
      "text/plain": [
       "{((711, 1630), (812, 1539)),\n",
       " ((785, 2264), (886, 2173)),\n",
       " ((958, 2888), (1059, 2797)),\n",
       " ((1282, 1411), (1383, 1320)),\n",
       " ((1394, 1639), (1495, 1548)),\n",
       " ((1662, 1535), (1763, 1444)),\n",
       " ((1718, 3018), (1819, 2927)),\n",
       " ((1791, 1945), (1892, 1854)),\n",
       " ((2021, 991), (2122, 900))}"
      ]
     },
     "execution_count": 244,
     "metadata": {},
     "output_type": "execute_result"
    }
   ],
   "source": [
    "all_locs = set(all_locs)\n",
    "all_locs"
   ]
  },
  {
   "cell_type": "code",
   "execution_count": 245,
   "metadata": {},
   "outputs": [
    {
     "data": {
      "text/plain": [
       "True"
      ]
     },
     "execution_count": 245,
     "metadata": {},
     "output_type": "execute_result"
    }
   ],
   "source": [
    "template = cv2.imread(\"/Volumes/Samsung_T5/Segmentation_Data/VC0395_300mOsm_12_colony.JPG\",0)\n",
    "img_rgb = cv2.imread(ex_filepath)\n",
    "img_gray = cv2.cvtColor(img_rgb, cv2.COLOR_BGR2GRAY)\n",
    "w, h = template.shape[::-1]\n",
    "\n",
    "res = cv2.matchTemplate(img_gray,template,cv2.TM_CCOEFF_NORMED)\n",
    "threshold = 0.50\n",
    "loc = np.where( res >= threshold)\n",
    "for ul in all_locs:\n",
    "    upper_left, lower_right = ul[0], ul[1]\n",
    "#     cv2.rectangle(img_rgb, ul[0], (ul[1][0] + w, ul[1][1] + h), (0,0,255), 2)\n",
    "    cv2.rectangle(img_rgb, upper_left, lower_right, (0,255,0), 2)\n",
    "\n",
    "cv2.imwrite('res2.png',img_rgb)"
   ]
  },
  {
   "cell_type": "code",
   "execution_count": null,
   "metadata": {},
   "outputs": [],
   "source": []
  }
 ],
 "metadata": {
  "kernelspec": {
   "display_name": "Python 3",
   "language": "python",
   "name": "python3"
  },
  "language_info": {
   "codemirror_mode": {
    "name": "ipython",
    "version": 3
   },
   "file_extension": ".py",
   "mimetype": "text/x-python",
   "name": "python",
   "nbconvert_exporter": "python",
   "pygments_lexer": "ipython3",
   "version": "3.6.8"
  },
  "toc": {
   "base_numbering": 1,
   "nav_menu": {},
   "number_sections": true,
   "sideBar": true,
   "skip_h1_title": false,
   "title_cell": "Table of Contents",
   "title_sidebar": "Contents",
   "toc_cell": false,
   "toc_position": {
    "height": "calc(100% - 180px)",
    "left": "10px",
    "top": "150px",
    "width": "241px"
   },
   "toc_section_display": true,
   "toc_window_display": true
  }
 },
 "nbformat": 4,
 "nbformat_minor": 2
}
